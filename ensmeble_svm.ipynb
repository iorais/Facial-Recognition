{
 "cells": [
  {
   "cell_type": "code",
   "execution_count": 25,
   "metadata": {},
   "outputs": [
    {
     "name": "stdout",
     "output_type": "stream",
     "text": [
      "using pca and lda model\n"
     ]
    },
    {
     "ename": "FileNotFoundError",
     "evalue": "[Errno 2] No such file or directory: 'dimension_reduced_data_45_res_95_var/X_train_pca_lda.npy'",
     "output_type": "error",
     "traceback": [
      "\u001b[0;31m---------------------------------------------------------------------------\u001b[0m",
      "\u001b[0;31mFileNotFoundError\u001b[0m                         Traceback (most recent call last)",
      "Cell \u001b[0;32mIn[25], line 27\u001b[0m\n\u001b[1;32m     25\u001b[0m \u001b[38;5;28;01melif\u001b[39;00m use_pca \u001b[38;5;129;01mand\u001b[39;00m use_lda:\n\u001b[1;32m     26\u001b[0m     \u001b[38;5;28mprint\u001b[39m(\u001b[38;5;124m'\u001b[39m\u001b[38;5;124musing pca and lda model\u001b[39m\u001b[38;5;124m'\u001b[39m)\n\u001b[0;32m---> 27\u001b[0m     X_train \u001b[38;5;241m=\u001b[39m \u001b[43mnp\u001b[49m\u001b[38;5;241;43m.\u001b[39;49m\u001b[43mload\u001b[49m\u001b[43m(\u001b[49m\u001b[38;5;124;43mf\u001b[39;49m\u001b[38;5;124;43m'\u001b[39;49m\u001b[38;5;132;43;01m{\u001b[39;49;00m\u001b[43mdata_dir\u001b[49m\u001b[38;5;132;43;01m}\u001b[39;49;00m\u001b[38;5;124;43m/X_train_pca_lda.npy\u001b[39;49m\u001b[38;5;124;43m'\u001b[39;49m\u001b[43m)\u001b[49m\n\u001b[1;32m     28\u001b[0m     X_val \u001b[38;5;241m=\u001b[39m np\u001b[38;5;241m.\u001b[39mload(\u001b[38;5;124mf\u001b[39m\u001b[38;5;124m'\u001b[39m\u001b[38;5;132;01m{\u001b[39;00mdata_dir\u001b[38;5;132;01m}\u001b[39;00m\u001b[38;5;124m/X_val_pca_lda.npy\u001b[39m\u001b[38;5;124m'\u001b[39m)\n\u001b[1;32m     30\u001b[0m y_train \u001b[38;5;241m=\u001b[39m np\u001b[38;5;241m.\u001b[39mload(\u001b[38;5;124mf\u001b[39m\u001b[38;5;124m'\u001b[39m\u001b[38;5;132;01m{\u001b[39;00mdata_dir\u001b[38;5;132;01m}\u001b[39;00m\u001b[38;5;124m/y_train.npy\u001b[39m\u001b[38;5;124m'\u001b[39m)\n",
      "File \u001b[0;32m/Library/Frameworks/Python.framework/Versions/3.12/lib/python3.12/site-packages/numpy/lib/npyio.py:427\u001b[0m, in \u001b[0;36mload\u001b[0;34m(file, mmap_mode, allow_pickle, fix_imports, encoding, max_header_size)\u001b[0m\n\u001b[1;32m    425\u001b[0m     own_fid \u001b[38;5;241m=\u001b[39m \u001b[38;5;28;01mFalse\u001b[39;00m\n\u001b[1;32m    426\u001b[0m \u001b[38;5;28;01melse\u001b[39;00m:\n\u001b[0;32m--> 427\u001b[0m     fid \u001b[38;5;241m=\u001b[39m stack\u001b[38;5;241m.\u001b[39menter_context(\u001b[38;5;28;43mopen\u001b[39;49m\u001b[43m(\u001b[49m\u001b[43mos_fspath\u001b[49m\u001b[43m(\u001b[49m\u001b[43mfile\u001b[49m\u001b[43m)\u001b[49m\u001b[43m,\u001b[49m\u001b[43m \u001b[49m\u001b[38;5;124;43m\"\u001b[39;49m\u001b[38;5;124;43mrb\u001b[39;49m\u001b[38;5;124;43m\"\u001b[39;49m\u001b[43m)\u001b[49m)\n\u001b[1;32m    428\u001b[0m     own_fid \u001b[38;5;241m=\u001b[39m \u001b[38;5;28;01mTrue\u001b[39;00m\n\u001b[1;32m    430\u001b[0m \u001b[38;5;66;03m# Code to distinguish from NumPy binary files and pickles.\u001b[39;00m\n",
      "\u001b[0;31mFileNotFoundError\u001b[0m: [Errno 2] No such file or directory: 'dimension_reduced_data_45_res_95_var/X_train_pca_lda.npy'"
     ]
    }
   ],
   "source": [
    "from sklearn.svm import SVC\n",
    "from sklearn.metrics import accuracy_score, confusion_matrix\n",
    "import numpy as np\n",
    "import matplotlib.pyplot as plt\n",
    "import seaborn as sns\n",
    "\n",
    "\n",
    "resolution = 50\n",
    "variance = 99\n",
    "data_dir = f'dimension_reduced_data_{resolution}_res_{variance}_var'\n",
    "\n",
    "use_pca = True\n",
    "use_lda = True\n",
    "\n",
    "if use_pca and not use_lda:\n",
    "    print('using pca model')\n",
    "    X_train = np.load(f'{data_dir}/X_train_pca.npy')\n",
    "    X_val = np.load(f'{data_dir}/X_val_pca.npy')\n",
    "\n",
    "elif use_lda and not use_pca:\n",
    "    print('using lda model')\n",
    "    X_train = np.load(f'{data_dir}/X_train_lda.npy')\n",
    "    X_val = np.load(f'{data_dir}/X_val_lda.npy')\n",
    "\n",
    "elif use_pca and use_lda:\n",
    "    print('using pca and lda model')\n",
    "    X_train = np.load(f'{data_dir}/X_train_pca_lda.npy')\n",
    "    X_val = np.load(f'{data_dir}/X_val_pca_lda.npy')\n",
    "\n",
    "y_train = np.load(f'{data_dir}/y_train.npy')\n",
    "y_val = np.load(f'{data_dir}/y_val.npy')\n",
    "\n",
    "print(X_train.shape)\n",
    "\n",
    "# Define base SVM learners\n",
    "svm_1 = SVC(kernel='rbf', C=1, gamma='scale', probability=True, random_state=42)\n",
    "svm_2 = SVC(kernel='rbf', C=10, gamma='scale', probability=True, random_state=42)\n",
    "svm_3 = SVC(kernel='rbf', C=100, gamma='scale', probability=True, random_state=42)\n",
    "\n",
    "# Train base SVM learners\n",
    "svm_1.fit(X_train, y_train)\n",
    "svm_2.fit(X_train, y_train)\n",
    "svm_3.fit(X_train, y_train)\n",
    "\n",
    "# Make predictions\n",
    "yp_train_1 = svm_1.predict(X_train)\n",
    "yp_train_2 = svm_2.predict(X_train)\n",
    "yp_train_3 = svm_3.predict(X_train)\n",
    "\n",
    "# Ensemble predictions (e.g., simple majority voting)\n",
    "yp_train_ensemble = np.array([np.argmax(np.bincount([yp_train_1[i], yp_train_2[i], yp_train_3[i]])) for i in range(len(yp_train_1))])\n",
    "\n",
    "# Calculate training accuracy\n",
    "training_accuracy = accuracy_score(y_train, yp_train_ensemble)\n",
    "\n",
    "# Make predictions on validation data\n",
    "yp_val_1 = svm_1.predict(X_val)\n",
    "yp_val_2 = svm_2.predict(X_val)\n",
    "yp_val_3 = svm_3.predict(X_val)\n",
    "\n",
    "# Ensemble predictions for validation data\n",
    "yp_val_ensemble = np.array([np.argmax(np.bincount([yp_val_1[i], yp_val_2[i], yp_val_3[i]])) for i in range(len(yp_val_1))])\n",
    "\n",
    "# Calculate validation accuracy\n",
    "validation_accuracy = accuracy_score(y_val, yp_val_ensemble)\n",
    "\n",
    "# Calculate confusion matrix for validation data\n",
    "cm = confusion_matrix(y_val, yp_val_ensemble)\n",
    "\n",
    "# Plot the confusion matrix\n",
    "plt.figure(figsize=(10, 8))\n",
    "sns.heatmap(cm, annot=True, fmt=\"d\")\n",
    "plt.title(\"Confusion Matrix\")\n",
    "plt.ylabel(\"True Label\")\n",
    "plt.xlabel(\"Predicted Label\")\n",
    "plt.show()\n",
    "\n",
    "print(\"Accuracy:\", training_accuracy, validation_accuracy)\n"
   ]
  },
  {
   "cell_type": "code",
   "execution_count": null,
   "metadata": {},
   "outputs": [],
   "source": []
  }
 ],
 "metadata": {
  "kernelspec": {
   "display_name": "Python 3",
   "language": "python",
   "name": "python3"
  },
  "language_info": {
   "codemirror_mode": {
    "name": "ipython",
    "version": 3
   },
   "file_extension": ".py",
   "mimetype": "text/x-python",
   "name": "python",
   "nbconvert_exporter": "python",
   "pygments_lexer": "ipython3",
   "version": "3.12.1"
  }
 },
 "nbformat": 4,
 "nbformat_minor": 2
}
