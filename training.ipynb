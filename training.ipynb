{
 "cells": [
  {
   "cell_type": "markdown",
   "metadata": {},
   "source": [
    "## Install Dependencies"
   ]
  },
  {
   "cell_type": "code",
   "execution_count": 38,
   "metadata": {},
   "outputs": [
    {
     "name": "stdout",
     "output_type": "stream",
     "text": [
      "\u001b[31mERROR: Invalid requirement: '...'\u001b[0m\u001b[31m\n",
      "\u001b[0m\n",
      "\u001b[1m[\u001b[0m\u001b[34;49mnotice\u001b[0m\u001b[1;39;49m]\u001b[0m\u001b[39;49m A new release of pip is available: \u001b[0m\u001b[31;49m23.3.2\u001b[0m\u001b[39;49m -> \u001b[0m\u001b[32;49m24.0\u001b[0m\n",
      "\u001b[1m[\u001b[0m\u001b[34;49mnotice\u001b[0m\u001b[1;39;49m]\u001b[0m\u001b[39;49m To update, run: \u001b[0m\u001b[32;49mpip3.12 install --upgrade pip\u001b[0m\n",
      "Note: you may need to restart the kernel to use updated packages.\n"
     ]
    }
   ],
   "source": [
    "%pip install ..."
   ]
  },
  {
   "cell_type": "markdown",
   "metadata": {},
   "source": [
    "## Imports"
   ]
  },
  {
   "cell_type": "code",
   "execution_count": 39,
   "metadata": {},
   "outputs": [],
   "source": [
    "import os\n",
    "import cv2\n",
    "import pickle\n",
    "\n",
    "import numpy as np\n",
    "import matplotlib.image as mpimg\n",
    "import torchvision.datasets as datasets\n",
    "\n",
    "from tqdm import tqdm\n",
    "from autocrop import Cropper\n",
    "from torchvision import transforms\n",
    "from collections import defaultdict\n",
    "from PIL import Image, ImageEnhance\n",
    "from sklearn.decomposition import PCA\n",
    "from sklearn.preprocessing import StandardScaler\n",
    "from sklearn.discriminant_analysis import LinearDiscriminantAnalysis\n",
    "\n",
    "from sklearn.metrics import accuracy_score\n",
    "from sklearn.svm import SVC\n",
    "import matplotlib.pyplot as plt\n",
    "import seaborn as sns\n",
    "from sklearn.metrics import confusion_matrix\n",
    "from sklearn.model_selection import GridSearchCV\n",
    "import torch.utils.data\n",
    "from math import ceil, floor\n"
   ]
  },
  {
   "cell_type": "markdown",
   "metadata": {},
   "source": [
    "## Paths"
   ]
  },
  {
   "cell_type": "code",
   "execution_count": 40,
   "metadata": {},
   "outputs": [],
   "source": [
    "root_path = ''\n",
    "train_path = os.path.join(root_path, 'train')\n",
    "\n",
    "os.makedirs(train_path, exist_ok=True)"
   ]
  },
  {
   "cell_type": "markdown",
   "metadata": {},
   "source": [
    "# Data Pipeline\n",
    "Preparing the data for feature extraction"
   ]
  },
  {
   "cell_type": "markdown",
   "metadata": {},
   "source": [
    "## Sort Data\n",
    "The raw image files will be renamed, labeled, and saved in sorted_data/"
   ]
  },
  {
   "cell_type": "code",
   "execution_count": 41,
   "metadata": {},
   "outputs": [
    {
     "name": "stdout",
     "output_type": "stream",
     "text": [
      "excluding wufangyuan\n",
      "finished sorting data\n"
     ]
    }
   ],
   "source": [
    "src = os.path.join(root_path,'trainingset0206')\n",
    "dst = os.path.join(train_path, 'sorted_data')\n",
    "\n",
    "def is_image_file(filename: str) -> bool:\n",
    "    extensions = ['.png', '.jpg', '.jpeg', '.PNG', '.JPG', '.JPEG']\n",
    "    return any(filename.endswith(extension) for extension in extensions)\n",
    "\n",
    "# mapping from filename to label\n",
    "filename_to_label = {}\n",
    "\n",
    "# mapping from filename to PIL Image object\n",
    "filename_to_img = {}\n",
    "\n",
    "# mapping from label to list of image files\n",
    "label_to_filenames = defaultdict(list)\n",
    "\n",
    "with open(src + '/file_mapping.txt') as file_mapping:\n",
    "    for line in file_mapping:\n",
    "        filename, label = line.split()\n",
    "        if is_image_file(filename):\n",
    "            filename_to_label[filename] = label\n",
    "            filename_to_img[filename] = Image.open(f'{src}/{filename}')\n",
    "            label_to_filenames[label].append(filename)\n",
    "\n",
    "for label in label_to_filenames.keys():\n",
    "    label_to_filenames[label].sort()\n",
    "\n",
    "# list of labels\n",
    "labels = list(label_to_filenames.keys())\n",
    "\n",
    "def save_image(filename: str):\n",
    "    # create directory if needed\n",
    "    os.makedirs(dst, exist_ok=True)\n",
    "\n",
    "    img = filename_to_img[filename]\n",
    "\n",
    "    label = filename_to_label[filename]\n",
    "    date = filename.split('_')[0]\n",
    "    new_filename = '_'.join([label, date + '.jpeg'])\n",
    "\n",
    "    img.save(f'{dst}/{new_filename}')\n",
    "\n",
    "# main function\n",
    "def sort_data():\n",
    "    exclude_labels = ['wufangyuan']\n",
    "    exclude = defaultdict(lambda : False)\n",
    "    for label in exclude_labels:\n",
    "        exclude[label] = True\n",
    "\n",
    "    for label in label_to_filenames.keys():\n",
    "        if exclude[label]:\n",
    "            print(f'excluding {label}')\n",
    "            continue\n",
    "        \n",
    "        for filename in label_to_filenames[label]:\n",
    "            save_image(filename)\n",
    "\n",
    "    print('finished sorting data')\n",
    "\n",
    "sort_data()"
   ]
  },
  {
   "cell_type": "markdown",
   "metadata": {},
   "source": [
    "## Augment Data\n",
    "The labled images will be augmented and saved in augmented_data/"
   ]
  },
  {
   "cell_type": "markdown",
   "metadata": {},
   "source": [
    "### Augment Image Color\n",
    "helper functions"
   ]
  },
  {
   "cell_type": "code",
   "execution_count": 42,
   "metadata": {},
   "outputs": [],
   "source": [
    "def adjust_image_properties_opencv(image_path, \n",
    "                                   output_folder, \n",
    "                                   saturation_factor, \n",
    "                                   brightness_factor, \n",
    "                                   contrast_factor, \n",
    "                                   hue_shift_value):\n",
    "    try:\n",
    "        image = cv2.imread(image_path)\n",
    "        base_name = os.path.basename(image_path)\n",
    "        file_name, extension_type = base_name.split(\".\")\n",
    "\n",
    "        hsv_image = cv2.cvtColor(image, cv2.COLOR_BGR2HSV)\n",
    "        h, s, v = cv2.split(hsv_image)\n",
    "\n",
    "        h = (h + hue_shift_value) % 180 \n",
    "        hsv_image = cv2.merge([h, s, v])\n",
    "\n",
    "        adjusted_image = cv2.cvtColor(hsv_image, cv2.COLOR_HSV2BGR)\n",
    "        adjusted_image_pil = Image.fromarray(cv2.cvtColor(adjusted_image, cv2.COLOR_BGR2RGB))\n",
    "\n",
    "        enhancer = ImageEnhance.Color(adjusted_image_pil)\n",
    "        adjusted_image_pil = enhancer.enhance(saturation_factor)\n",
    "\n",
    "        enhancer = ImageEnhance.Brightness(adjusted_image_pil)\n",
    "        adjusted_image_pil = enhancer.enhance(brightness_factor)\n",
    "\n",
    "        enhancer = ImageEnhance.Contrast(adjusted_image_pil)\n",
    "        adjusted_image_pil = enhancer.enhance(contrast_factor)\n",
    "\n",
    "        color_adjusted_filename = f\"{file_name}_h{round(hue_shift_value,2)}_s{round(saturation_factor,2)}_b{round(brightness_factor,2)}_c{round(contrast_factor,2)}.{extension_type}\"\n",
    "        color_adjusted_path = os.path.join(output_folder, color_adjusted_filename)\n",
    "        adjusted_image_pil.save(color_adjusted_path)\n",
    "\n",
    "    except Exception as e:\n",
    "        print(f\"Error processing {image_path}: {e}\")\n",
    "\n",
    "def aug_image_color_process_folder(folder_path, output_folder):\n",
    "    os.makedirs(output_folder, exist_ok=True)\n",
    "\n",
    "    print('')\n",
    "    print(f'augmenting images from {folder_path} and')\n",
    "    print(f'saving to {output_folder}')\n",
    "\n",
    "    filename: str\n",
    "    for filename in tqdm(os.listdir(folder_path)):\n",
    "        if filename.lower().endswith(('.png', '.jpg', '.jpeg', '.bmp', '.gif')):\n",
    "            file_path = os.path.join(folder_path, filename)\n",
    "\n",
    "            hue_range = [10 * i for i in range(1)]  # hue shift locked to 10\n",
    "            saturation_range = [0.9 + 0.3*i for i in range(2)]  # range from 0.9 to 1.5\n",
    "            brightness_range = [0.6 + 0.5*i for i in range(2)]  # range from 0.6 to 1.6\n",
    "            contrast_range = [0.8 + 0.5*i for i in range(2)]  # range from 0.8 to 1.6\n",
    "\n",
    "            for hue_shift_value in hue_range:\n",
    "                for saturation_factor in saturation_range:\n",
    "                    for brightness_factor in brightness_range:\n",
    "                        for contrast_factor in contrast_range:\n",
    "                            adjust_image_properties_opencv(file_path, \n",
    "                                                           output_folder, \n",
    "                                                           saturation_factor, \n",
    "                                                           brightness_factor, \n",
    "                                                           contrast_factor, \n",
    "                                                           hue_shift_value)"
   ]
  },
  {
   "cell_type": "markdown",
   "metadata": {},
   "source": [
    "### Augment Image Tilt\n",
    "helper functions"
   ]
  },
  {
   "cell_type": "code",
   "execution_count": 43,
   "metadata": {},
   "outputs": [],
   "source": [
    "def tilt_right(image):\n",
    "    rows, cols = image.shape[:2]\n",
    "    tilt_matrix = np.float32([[1, 0.2, 0], [0, 1, 0]])\n",
    "    # Adjust translation to fit the entire tilted image within the original dimensions\n",
    "    translation_matrix = np.float32([[1, 0, -0.2 * cols], [0, 1, 0]])\n",
    "    combined_matrix = np.dot(tilt_matrix, np.vstack((translation_matrix, [0, 0, 1])))\n",
    "    # Warp the image\n",
    "    tilted_image = cv2.warpAffine(image, combined_matrix[:2, :], (cols, rows))\n",
    "    return tilted_image\n",
    "\n",
    "def tilt_left(image):\n",
    "    rows, cols = image.shape[:2]\n",
    "    tilt_matrix = np.float32([[1, -0.2, 0], [0, 1, 0]])\n",
    "    # Adjust translation to fit the entire tilted image within the original dimensions\n",
    "    translation_matrix = np.float32([[1, 0, 0.2 * cols], [0, 1, 0]])\n",
    "    combined_matrix = np.dot(tilt_matrix, np.vstack((translation_matrix, [0, 0, 1])))\n",
    "    # Warp the image\n",
    "    tilted_image = cv2.warpAffine(image, combined_matrix[:2, :], (cols, rows))\n",
    "    return tilted_image\n",
    "\n",
    "def tilt_front(image):\n",
    "    rows, cols = image.shape[:2]\n",
    "    tilt_matrix = np.float32([[1, 0, 0], [0, 1, 0]])\n",
    "    tilted_image = cv2.warpAffine(image, tilt_matrix, (cols, rows))\n",
    "    return tilted_image\n",
    "\n",
    "def tilt_back(image):\n",
    "    rows, cols = image.shape[:2]\n",
    "    tilt_matrix = np.float32([[-1, 0, cols], [0, 1, 0]])\n",
    "    tilted_image = cv2.warpAffine(image, tilt_matrix, (cols, rows))\n",
    "    return tilted_image\n",
    "\n",
    "def aug_image_tilt_process_folder(folder_path, output_folder):\n",
    "    os.makedirs(output_folder, exist_ok=True)\n",
    "\n",
    "    print('')\n",
    "    print(f'augmenting images from {folder_path} and')\n",
    "    print(f'saving to {output_folder}')\n",
    "\n",
    "    filename: str\n",
    "    for filename in tqdm(os.listdir(folder_path)):\n",
    "        if filename.lower().endswith(('.png', '.jpg', '.jpeg', '.bmp', '.gif')):\n",
    "            file_path = os.path.join(folder_path, filename)\n",
    "            image = mpimg.imread(file_path)\n",
    "\n",
    "            # tilt images\n",
    "            tilted_right = tilt_right(image)\n",
    "            tilted_left = tilt_left(image)\n",
    "            tilted_front = tilt_front(image)\n",
    "            tilted_back = tilt_back(image)\n",
    "\n",
    "            # save tilted iamges\n",
    "            name, ext = filename.split('.')\n",
    "            mpimg.imsave(fname=os.path.join(output_folder, f'{name}_tilted_right.{ext}'), arr=tilted_right)\n",
    "            mpimg.imsave(fname=os.path.join(output_folder, f'{name}_tilted_left.{ext}'), arr=tilted_left)\n",
    "            mpimg.imsave(fname=os.path.join(output_folder, f'{name}_tilted_front.{ext}'), arr=tilted_front)\n",
    "            mpimg.imsave(fname=os.path.join(output_folder, f'{name}_tilted_back.{ext}'), arr=tilted_back)"
   ]
  },
  {
   "cell_type": "markdown",
   "metadata": {},
   "source": [
    "### Combinations of Augmentation\n",
    "The labled images are tilted, colored, and saved"
   ]
  },
  {
   "cell_type": "code",
   "execution_count": 44,
   "metadata": {},
   "outputs": [
    {
     "name": "stdout",
     "output_type": "stream",
     "text": [
      "\n",
      "augmenting images from train/sorted_data and\n",
      "saving to train/augmented_data/Tilt\n"
     ]
    },
    {
     "name": "stderr",
     "output_type": "stream",
     "text": [
      "100%|██████████| 268/268 [00:01<00:00, 189.89it/s]\n"
     ]
    },
    {
     "name": "stdout",
     "output_type": "stream",
     "text": [
      "\n",
      "augmenting images from train/sorted_data and\n",
      "saving to train/augmented_data\n"
     ]
    },
    {
     "name": "stderr",
     "output_type": "stream",
     "text": [
      "100%|██████████| 268/268 [00:01<00:00, 191.99it/s]\n"
     ]
    },
    {
     "name": "stdout",
     "output_type": "stream",
     "text": [
      "\n",
      "augmenting images from train/sorted_data and\n",
      "saving to train/augmented_data/Colored\n"
     ]
    },
    {
     "name": "stderr",
     "output_type": "stream",
     "text": [
      "100%|██████████| 268/268 [00:04<00:00, 63.06it/s]\n"
     ]
    },
    {
     "name": "stdout",
     "output_type": "stream",
     "text": [
      "\n",
      "augmenting images from train/augmented_data/Tilt and\n",
      "saving to train/augmented_data\n"
     ]
    },
    {
     "name": "stderr",
     "output_type": "stream",
     "text": [
      "100%|██████████| 1072/1072 [00:16<00:00, 63.53it/s]\n"
     ]
    }
   ],
   "source": [
    "# directory of sorted, labled data\n",
    "sorted_path = os.path.join(train_path, 'sorted_data')\n",
    "\n",
    "# create directory for augmented data\n",
    "aug_path = os.path.join(train_path, 'augmented_data')\n",
    "os.makedirs(aug_path, exist_ok=True)\n",
    "\n",
    "# saves default data into augmented_data subdirectory\n",
    "for filename in os.listdir(sorted_path):\n",
    "    file_path = os.path.join(sorted_path, filename)\n",
    "\n",
    "    img = Image.open(file_path)\n",
    "    img.save(f'{aug_path}/{filename}')\n",
    "\n",
    "# saves tilted images into augmented_data subdirectories\n",
    "aug_subdir_tilt = os.path.join(aug_path, 'Tilt')\n",
    "aug_image_tilt_process_folder(sorted_path, aug_subdir_tilt)\n",
    "aug_image_tilt_process_folder(sorted_path, aug_path)\n",
    "\n",
    "# saves colored images into augmented_data subdirectory\n",
    "aug_subdir_colored = os.path.join(aug_path, 'Colored')\n",
    "aug_image_color_process_folder(sorted_path, aug_subdir_colored)\n",
    "aug_image_color_process_folder(aug_subdir_tilt, aug_path)"
   ]
  },
  {
   "cell_type": "markdown",
   "metadata": {},
   "source": [
    "## Crop Data\n",
    "The augmented images will be cropped and saved in training/ <br>\n",
    "Data will be put into subdirectories organized by labels"
   ]
  },
  {
   "cell_type": "code",
   "execution_count": 45,
   "metadata": {},
   "outputs": [
    {
     "name": "stderr",
     "output_type": "stream",
     "text": [
      "100%|██████████| 9918/9918 [02:19<00:00, 71.07it/s]"
     ]
    },
    {
     "name": "stdout",
     "output_type": "stream",
     "text": [
      "Number of rejected images: 539\n"
     ]
    },
    {
     "name": "stderr",
     "output_type": "stream",
     "text": [
      "\n"
     ]
    }
   ],
   "source": [
    "src = os.path.join(train_path, 'augmented_data')\n",
    "dst = os.path.join(train_path, 'training')\n",
    "\n",
    "rej = os.path.join(train_path, 'rejected')\n",
    "\n",
    "os.makedirs(dst, exist_ok=True)\n",
    "os.makedirs(rej, exist_ok=True)\n",
    "\n",
    "# autocropper\n",
    "cropper = Cropper(244, 244)\n",
    "\n",
    "rejected_count = 0\n",
    "\n",
    "for filename in tqdm(os.listdir(src)):\n",
    "    if filename.lower().endswith(('.png', '.jpg', '.jpeg', '.bmp', '.gif')):\n",
    "        # creates subdirectory by labels\n",
    "        label = filename.split('_')[0]\n",
    "        subdir = os.path.join(dst, label)\n",
    "        os.makedirs(subdir, exist_ok=True)\n",
    "\n",
    "        # crops image\n",
    "        cropped_array = cropper.crop(f'{src}/{filename}')\n",
    "\n",
    "        if type(cropped_array) != type(None):\n",
    "            # saves successfully cropped image in subdir\n",
    "            img = Image.fromarray(cropped_array)\n",
    "            img.save(f'{subdir}/{filename}')\n",
    "        else:\n",
    "            rejsubdir = os.path.join(rej, 'training', label)\n",
    "            os.makedirs(rejsubdir, exist_ok=True)\n",
    "\n",
    "            # saves rejected image in rejected/training/[label]/\n",
    "            img = Image.open(f'{src}/{filename}')\n",
    "            img.save(f'{rejsubdir}/{filename}')\n",
    "\n",
    "            rejected_count += 1\n",
    "\n",
    "print(f'Number of rejected images: {rejected_count}')"
   ]
  },
  {
   "cell_type": "code",
   "execution_count": 46,
   "metadata": {},
   "outputs": [
    {
     "name": "stderr",
     "output_type": "stream",
     "text": [
      "  0%|          | 0/11 [00:00<?, ?it/s]\n"
     ]
    },
    {
     "ename": "NameError",
     "evalue": "name 'floor' is not defined",
     "output_type": "error",
     "traceback": [
      "\u001b[0;31m---------------------------------------------------------------------------\u001b[0m",
      "\u001b[0;31mNameError\u001b[0m                                 Traceback (most recent call last)",
      "Cell \u001b[0;32mIn[46], line 28\u001b[0m\n\u001b[1;32m     26\u001b[0m left \u001b[38;5;241m=\u001b[39m \u001b[38;5;241m0\u001b[39m\n\u001b[1;32m     27\u001b[0m right \u001b[38;5;241m=\u001b[39m w\n\u001b[0;32m---> 28\u001b[0m top \u001b[38;5;241m=\u001b[39m \u001b[43mfloor\u001b[49m((h \u001b[38;5;241m-\u001b[39m w) \u001b[38;5;241m/\u001b[39m \u001b[38;5;241m2\u001b[39m)\n\u001b[1;32m     29\u001b[0m bottom \u001b[38;5;241m=\u001b[39m h \u001b[38;5;241m-\u001b[39m ceil((h \u001b[38;5;241m-\u001b[39m w) \u001b[38;5;241m/\u001b[39m \u001b[38;5;241m2\u001b[39m)\n\u001b[1;32m     31\u001b[0m img \u001b[38;5;241m=\u001b[39m img\u001b[38;5;241m.\u001b[39mcrop((left, top, right, bottom))\n",
      "\u001b[0;31mNameError\u001b[0m: name 'floor' is not defined"
     ]
    }
   ],
   "source": [
    "src = os.path.join(train_path, 'rejected', 'training')\n",
    "dst = os.path.join(train_path, 'training')\n",
    "\n",
    "cropped = os.path.join(train_path, 'rejected', 'training_cropped')\n",
    "\n",
    "# images from rejected data to be recropped\n",
    "recrop = [\n",
    "    'lozanoroberto',\n",
    "    'chientingwei',\n",
    "    'virvadianisargjyotin'\n",
    "]\n",
    "\n",
    "os.makedirs(dst, exist_ok=True)\n",
    "os.makedirs(cropped, exist_ok=True)\n",
    "\n",
    "recrop_count = 0\n",
    "\n",
    "for label in tqdm(os.listdir(src)):\n",
    "    if label in recrop:\n",
    "        # recrops labels in recrop\n",
    "        label_path = os.path.join(src, label)\n",
    "        for file in os.listdir(label_path):\n",
    "            img = Image.open(f'{label_path}/{file}')\n",
    "            w, h = img.size\n",
    "\n",
    "            left = 0\n",
    "            right = w\n",
    "            top = floor((h - w) / 2)\n",
    "            bottom = h - ceil((h - w) / 2)\n",
    "\n",
    "            img = img.crop((left, top, right, bottom))\n",
    "            img = img.resize((244, 244))\n",
    "            \n",
    "            img.save(f'{dst}/{label}/{file}')\n",
    "\n",
    "            os.makedirs(f'{cropped}/{label}', exist_ok=True)\n",
    "            img.save(f'{cropped}/{label}/{file}')\n",
    "            recrop_count += 1\n",
    "\n",
    "print(f'recropped {recrop_count} images')"
   ]
  },
  {
   "cell_type": "markdown",
   "metadata": {},
   "source": [
    "## Paths"
   ]
  },
  {
   "cell_type": "code",
   "execution_count": null,
   "metadata": {},
   "outputs": [],
   "source": [
    "root_path = ''\n",
    "train_path = os.path.join(root_path, 'train')\n",
    "\n",
    "os.makedirs(train_path, exist_ok=True)"
   ]
  },
  {
   "cell_type": "markdown",
   "metadata": {},
   "source": [
    "# Feature Extraction\n",
    "Extracts important features from data"
   ]
  },
  {
   "cell_type": "code",
   "execution_count": null,
   "metadata": {},
   "outputs": [
    {
     "name": "stderr",
     "output_type": "stream",
     "text": [
      "100%|██████████| 9377/9377 [00:05<00:00, 1835.20it/s]\n"
     ]
    }
   ],
   "source": [
    "train_data = os.path.join(train_path, 'training')\n",
    "\n",
    "dst = os.path.join(train_path, 'dimension_reduced_data')\n",
    "\n",
    "os.makedirs(dst, exist_ok=True)\n",
    "\n",
    "resolution = 50\n",
    "variance = 99\n",
    "\n",
    "initial_transforms = transforms.Compose([\n",
    "    transforms.Resize((resolution, resolution)),\n",
    "    transforms.ToTensor(),\n",
    "])\n",
    "\n",
    "dataset = datasets.ImageFolder(train_data, transform=initial_transforms)\n",
    "\n",
    "# converts training data tensors to numpy arrays\n",
    "n = len(dataset)\n",
    "X = np.zeros((n, 3, resolution, resolution))\n",
    "y = np.zeros(n)\n",
    "\n",
    "for i, (inputs, labels) in enumerate(tqdm(dataset)):\n",
    "    # axes=(channels, height, width)\n",
    "    X[i] = inputs.numpy()\n",
    "    y[i] = labels\n",
    "\n",
    "# class to index dictionary\n",
    "class_to_idx = dataset.class_to_idx\n",
    "with open(os.path.join(dst, 'class_to_idx.pkl'), 'wb') as handle:\n",
    "    pickle.dump(class_to_idx, handle, protocol=pickle.HIGHEST_PROTOCOL)\n",
    "\n",
    "# class names numpy array\n",
    "idx_to_class = {v: k for k, v in class_to_idx.items()}\n",
    "class_names = [idx_to_class[i] for i in range(len(idx_to_class))]\n",
    "np.save(os.path.join(dst, 'class_names.npy'), class_names)"
   ]
  },
  {
   "cell_type": "markdown",
   "metadata": {},
   "source": [
    "## Normalize Data"
   ]
  },
  {
   "cell_type": "code",
   "execution_count": null,
   "metadata": {},
   "outputs": [],
   "source": [
    "\n",
    "\n",
    "\n",
    "scaler = StandardScaler()\n",
    "\n",
    "# normalize training data\n",
    "n, d1, d2, d3 = X.shape\n",
    "X = X.reshape((n, d1 * d2 * d3))\n",
    "X = scaler.fit_transform(X)\n",
    "\n",
    "with open(os.path.join(dst, 'standardScaler.pkl'), 'wb') as handle:\n",
    "    pickle.dump(scaler, handle)"
   ]
  },
  {
   "cell_type": "markdown",
   "metadata": {},
   "source": [
    "## PCA\n",
    "Dimension reduction on data for full rank matrix"
   ]
  },
  {
   "cell_type": "code",
   "execution_count": null,
   "metadata": {},
   "outputs": [],
   "source": [
    "variance = 0.99\n",
    "pca = PCA(variance)\n",
    "\n",
    "X = pca.fit_transform(X)\n",
    "\n",
    "with open(os.path.join(dst, 'pca.pkl'), 'wb') as handle:\n",
    "    pickle.dump(pca, handle)"
   ]
  },
  {
   "cell_type": "markdown",
   "metadata": {},
   "source": [
    "## LDA\n",
    "Supervised dimension reduction on data that will be used for training"
   ]
  },
  {
   "cell_type": "code",
   "execution_count": null,
   "metadata": {},
   "outputs": [],
   "source": [
    "lda = LinearDiscriminantAnalysis()\n",
    "\n",
    "X = lda.fit_transform(X, y)\n",
    "\n",
    "with open(os.path.join(dst, 'lda.pkl'), 'wb') as handle:\n",
    "    pickle.dump(lda, handle)"
   ]
  },
  {
   "cell_type": "markdown",
   "metadata": {},
   "source": [
    "## Saves data\n",
    "- training data: [dimension_reduced_data/X.npy](dimension_reduced_data/X_train_pca_lda.npy)\n",
    "- labels: [dimension_reduced_data/y.npy](dimension_reduced_data/y.npy)\n",
    "- testing data: [dimension_reduced_data/X_test.npy](dimension_reduced_data/X_test.npy)"
   ]
  },
  {
   "cell_type": "code",
   "execution_count": null,
   "metadata": {},
   "outputs": [],
   "source": [
    "np.save(os.path.join(dst, 'X.npy'), X)\n",
    "np.save(os.path.join(dst, 'y.npy'), y)"
   ]
  },
  {
   "cell_type": "code",
   "execution_count": null,
   "metadata": {},
   "outputs": [
    {
     "name": "stdout",
     "output_type": "stream",
     "text": [
      "Fitting 5 folds for each of 16 candidates, totalling 80 fits\n",
      "[CV] END .....................C=0.1, gamma=0.001, kernel=rbf; total time=   1.3s\n",
      "[CV] END .....................C=0.1, gamma=0.001, kernel=rbf; total time=   1.3s\n",
      "[CV] END .....................C=0.1, gamma=0.001, kernel=rbf; total time=   1.3s\n",
      "[CV] END .....................C=0.1, gamma=0.001, kernel=rbf; total time=   1.3s\n",
      "[CV] END .....................C=0.1, gamma=0.001, kernel=rbf; total time=   1.3s\n",
      "[CV] END ....................C=0.1, gamma=0.0001, kernel=rbf; total time=   2.7s\n",
      "[CV] END ....................C=0.1, gamma=0.0001, kernel=rbf; total time=   2.9s\n",
      "[CV] END ....................C=0.1, gamma=0.0001, kernel=rbf; total time=   2.6s\n",
      "[CV] END ....................C=0.1, gamma=0.0001, kernel=rbf; total time=   2.7s\n",
      "[CV] END ....................C=0.1, gamma=0.0001, kernel=rbf; total time=   3.2s\n",
      "[CV] END .....................C=0.1, gamma=scale, kernel=rbf; total time=   0.8s\n",
      "[CV] END .....................C=0.1, gamma=scale, kernel=rbf; total time=   0.7s\n",
      "[CV] END .....................C=0.1, gamma=scale, kernel=rbf; total time=   0.8s\n",
      "[CV] END .....................C=0.1, gamma=scale, kernel=rbf; total time=   0.8s\n",
      "[CV] END .....................C=0.1, gamma=scale, kernel=rbf; total time=   0.8s\n",
      "[CV] END ......................C=0.1, gamma=auto, kernel=rbf; total time=   1.1s\n",
      "[CV] END ......................C=0.1, gamma=auto, kernel=rbf; total time=   1.1s\n",
      "[CV] END ......................C=0.1, gamma=auto, kernel=rbf; total time=   1.1s\n",
      "[CV] END ......................C=0.1, gamma=auto, kernel=rbf; total time=   1.1s\n",
      "[CV] END ......................C=0.1, gamma=auto, kernel=rbf; total time=   1.1s\n",
      "[CV] END .......................C=1, gamma=0.001, kernel=rbf; total time=   0.3s\n",
      "[CV] END .......................C=1, gamma=0.001, kernel=rbf; total time=   0.3s\n",
      "[CV] END .......................C=1, gamma=0.001, kernel=rbf; total time=   0.3s\n",
      "[CV] END .......................C=1, gamma=0.001, kernel=rbf; total time=   0.3s\n",
      "[CV] END .......................C=1, gamma=0.001, kernel=rbf; total time=   0.3s\n",
      "[CV] END ......................C=1, gamma=0.0001, kernel=rbf; total time=   1.2s\n",
      "[CV] END ......................C=1, gamma=0.0001, kernel=rbf; total time=   1.3s\n",
      "[CV] END ......................C=1, gamma=0.0001, kernel=rbf; total time=   1.2s\n",
      "[CV] END ......................C=1, gamma=0.0001, kernel=rbf; total time=   1.2s\n",
      "[CV] END ......................C=1, gamma=0.0001, kernel=rbf; total time=   1.1s\n",
      "[CV] END .......................C=1, gamma=scale, kernel=rbf; total time=   0.3s\n",
      "[CV] END .......................C=1, gamma=scale, kernel=rbf; total time=   0.3s\n",
      "[CV] END .......................C=1, gamma=scale, kernel=rbf; total time=   0.3s\n",
      "[CV] END .......................C=1, gamma=scale, kernel=rbf; total time=   0.3s\n",
      "[CV] END .......................C=1, gamma=scale, kernel=rbf; total time=   0.3s\n",
      "[CV] END ........................C=1, gamma=auto, kernel=rbf; total time=   0.7s\n",
      "[CV] END ........................C=1, gamma=auto, kernel=rbf; total time=   0.7s\n",
      "[CV] END ........................C=1, gamma=auto, kernel=rbf; total time=   0.7s\n",
      "[CV] END ........................C=1, gamma=auto, kernel=rbf; total time=   0.7s\n",
      "[CV] END ........................C=1, gamma=auto, kernel=rbf; total time=   0.7s\n",
      "[CV] END ......................C=10, gamma=0.001, kernel=rbf; total time=   0.1s\n",
      "[CV] END ......................C=10, gamma=0.001, kernel=rbf; total time=   0.1s\n",
      "[CV] END ......................C=10, gamma=0.001, kernel=rbf; total time=   0.1s\n",
      "[CV] END ......................C=10, gamma=0.001, kernel=rbf; total time=   0.1s\n",
      "[CV] END ......................C=10, gamma=0.001, kernel=rbf; total time=   0.1s\n",
      "[CV] END .....................C=10, gamma=0.0001, kernel=rbf; total time=   0.3s\n",
      "[CV] END .....................C=10, gamma=0.0001, kernel=rbf; total time=   0.3s\n",
      "[CV] END .....................C=10, gamma=0.0001, kernel=rbf; total time=   0.3s\n",
      "[CV] END .....................C=10, gamma=0.0001, kernel=rbf; total time=   0.4s\n",
      "[CV] END .....................C=10, gamma=0.0001, kernel=rbf; total time=   0.4s\n",
      "[CV] END ......................C=10, gamma=scale, kernel=rbf; total time=   0.3s\n",
      "[CV] END ......................C=10, gamma=scale, kernel=rbf; total time=   0.3s\n",
      "[CV] END ......................C=10, gamma=scale, kernel=rbf; total time=   0.3s\n",
      "[CV] END ......................C=10, gamma=scale, kernel=rbf; total time=   0.3s\n",
      "[CV] END ......................C=10, gamma=scale, kernel=rbf; total time=   0.3s\n",
      "[CV] END .......................C=10, gamma=auto, kernel=rbf; total time=   0.7s\n",
      "[CV] END .......................C=10, gamma=auto, kernel=rbf; total time=   0.7s\n",
      "[CV] END .......................C=10, gamma=auto, kernel=rbf; total time=   0.7s\n",
      "[CV] END .......................C=10, gamma=auto, kernel=rbf; total time=   0.7s\n",
      "[CV] END .......................C=10, gamma=auto, kernel=rbf; total time=   0.7s\n",
      "[CV] END .....................C=100, gamma=0.001, kernel=rbf; total time=   0.1s\n",
      "[CV] END .....................C=100, gamma=0.001, kernel=rbf; total time=   0.1s\n",
      "[CV] END .....................C=100, gamma=0.001, kernel=rbf; total time=   0.1s\n",
      "[CV] END .....................C=100, gamma=0.001, kernel=rbf; total time=   0.1s\n",
      "[CV] END .....................C=100, gamma=0.001, kernel=rbf; total time=   0.1s\n",
      "[CV] END ....................C=100, gamma=0.0001, kernel=rbf; total time=   0.1s\n",
      "[CV] END ....................C=100, gamma=0.0001, kernel=rbf; total time=   0.1s\n",
      "[CV] END ....................C=100, gamma=0.0001, kernel=rbf; total time=   0.1s\n",
      "[CV] END ....................C=100, gamma=0.0001, kernel=rbf; total time=   0.1s\n",
      "[CV] END ....................C=100, gamma=0.0001, kernel=rbf; total time=   0.1s\n",
      "[CV] END .....................C=100, gamma=scale, kernel=rbf; total time=   0.2s\n",
      "[CV] END .....................C=100, gamma=scale, kernel=rbf; total time=   0.2s\n",
      "[CV] END .....................C=100, gamma=scale, kernel=rbf; total time=   0.2s\n",
      "[CV] END .....................C=100, gamma=scale, kernel=rbf; total time=   0.2s\n",
      "[CV] END .....................C=100, gamma=scale, kernel=rbf; total time=   0.2s\n",
      "[CV] END ......................C=100, gamma=auto, kernel=rbf; total time=   0.7s\n",
      "[CV] END ......................C=100, gamma=auto, kernel=rbf; total time=   0.7s\n",
      "[CV] END ......................C=100, gamma=auto, kernel=rbf; total time=   0.7s\n",
      "[CV] END ......................C=100, gamma=auto, kernel=rbf; total time=   0.7s\n",
      "[CV] END ......................C=100, gamma=auto, kernel=rbf; total time=   0.7s\n"
     ]
    },
    {
     "data": {
      "image/png": "[encoded data removed]",
      "text/plain": [
       "<Figure size 1000x800 with 2 Axes>"
      ]
     },
     "metadata": {},
     "output_type": "display_data"
    },
    {
     "name": "stdout",
     "output_type": "stream",
     "text": [
      "Accuracy: 0.9998933560840354\n"
     ]
    }
   ],
   "source": [
    "resolution = 50\n",
    "variance = 99\n",
    "data_dir = f'dimension_reduced_data'\n",
    "\n",
    "param_grid = {\n",
    "    'C': [0.1, 1, 10, 100],  # Example values, should be expanded based on the specific problem\n",
    "    'gamma': [0.001, 0.0001, 'scale', 'auto'],  # Example values plus 'scale' and 'auto'\n",
    "    'kernel': ['rbf']\n",
    "}\n",
    "\n",
    "svc = SVC()\n",
    "model = GridSearchCV(svc, param_grid, cv=5, verbose=2)  # 5-fold cross-validation\n",
    "model.fit(X, y)\n",
    "\n",
    "yp = model.predict(X)\n",
    "training_accuracy = accuracy_score(y, yp)\n",
    "\n",
    "cm = confusion_matrix(y, yp)\n",
    "\n",
    "# Plot the confusion matrix\n",
    "plt.figure(figsize=(10, 8))\n",
    "sns.heatmap(cm, annot=True, fmt=\"d\")\n",
    "plt.title(\"Confusion Matrix\")\n",
    "plt.ylabel(\"True Label\")\n",
    "plt.xlabel(\"Predicted Label\")\n",
    "plt.show()\n",
    "\n",
    "print(\"Accuracy:\",training_accuracy)\n",
    "\n",
    "with open(os.path.join(dst, 'svm.pkl'), 'wb') as handle:\n",
    "    pickle.dump(model, handle)\n"
   ]
  }
 ],
 "metadata": {
  "kernelspec": {
   "display_name": "Python 3",
   "language": "python",
   "name": "python3"
  },
  "language_info": {
   "codemirror_mode": {
    "name": "ipython",
    "version": 3
   },
   "file_extension": ".py",
   "mimetype": "text/x-python",
   "name": "python",
   "nbconvert_exporter": "python",
   "pygments_lexer": "ipython3",
   "version": "3.12.1"
  }
 },
 "nbformat": 4,
 "nbformat_minor": 2
}
