{
  "cells": [
    {
      "cell_type": "code",
      "execution_count": null,
      "metadata": {
        "id": "lFA9sXRotzyy"
      },
      "outputs": [],
      "source": [
        "import os\n",
        "from PIL import Image\n",
        "\n",
        "import numpy as np\n",
        "\n",
        "import torch.nn as nn\n",
        "import torch.optim as optim\n",
        "import torch.utils.data\n",
        "import torchvision.datasets as datasets\n",
        "from torchvision import transforms\n",
        "\n",
        "from tqdm import tqdm"
      ]
    },
    {
      "cell_type": "code",
      "execution_count": null,
      "metadata": {
        "id": "7mSy8h_Xtzyz"
      },
      "outputs": [],
      "source": [
        "# path to Git Repo from Google CoLab file\n",
        "path = './'\n",
        "\n",
        "root_path = path if os.path.isdir(path) else ''\n",
        "\n",
        "data_dir = os.path.join(root_path, 'training')"
      ]
    },
    {
      "cell_type": "code",
      "execution_count": null,
      "metadata": {
        "id": "D5X8y-Vvtzyz"
      },
      "outputs": [],
      "source": [
        "# load dataset\n",
        "initial_transforms = transforms.Compose([\n",
        "    transforms.Resize((224, 224)),\n",
        "    transforms.ToTensor(),\n",
        "])\n",
        "\n",
        "dataset = datasets.ImageFolder(data_dir, transform=initial_transforms)\n",
        "\n",
        "def get_mean_std(loader):\n",
        "    # Compute the mean and standard deviation of all pixels in the dataset\n",
        "    num_pixels = 0\n",
        "    mean = 0.0\n",
        "    std = 0.0\n",
        "    images: torch.Tensor\n",
        "    for images, _ in loader:\n",
        "        batch_size, num_channels, height, width = images.shape\n",
        "        num_pixels += batch_size * height * width\n",
        "        mean += images.mean(axis=(0, 2, 3)).sum()\n",
        "        std += images.std(axis=(0, 2, 3)).sum()\n",
        "\n",
        "    mean /= num_pixels\n",
        "    std /= num_pixels\n",
        "\n",
        "    return mean, std\n",
        "\n",
        "batch_size = 32\n",
        "loader = torch.utils.data.DataLoader(dataset, batch_size=batch_size, shuffle=True)\n",
        "\n",
        "mean, std = get_mean_std(loader)\n",
        "\n",
        "data_transforms = transforms.Compose([\n",
        "    transforms.Resize((224, 224)),\n",
        "    transforms.ToTensor(),\n",
        "    transforms.Normalize(mean=mean, std=std)\n",
        "])\n",
        "\n",
        "dataset = datasets.ImageFolder(data_dir, transform=data_transforms)"
      ]
    },
    {
      "cell_type": "code",
      "execution_count": null,
      "metadata": {
        "id": "FKz0hpaVtzyz",
        "outputId": "e874dc56-25b5-42bb-86a4-ff3d8a7f9bf5"
      },
      "outputs": [
        {
          "name": "stderr",
          "output_type": "stream",
          "text": [
            "100%|██████████| 10601/10601 [00:17<00:00, 613.46it/s]\n"
          ]
        }
      ],
      "source": [
        "n = len(dataset)\n",
        "X_train = np.zeros((n, 3, 224, 224))\n",
        "y = np.zeros(n)\n",
        "\n",
        "for i, (inputs, labels) in enumerate(tqdm(dataset)):\n",
        "    X_train[i] = inputs.numpy()\n",
        "    y[i] = labels"
      ]
    },
    {
      "cell_type": "code",
      "execution_count": null,
      "metadata": {
        "id": "yHau4qWAtzy0",
        "outputId": "575383f4-cab0-4fdb-9f7b-d80ad4279f55"
      },
      "outputs": [
        {
          "name": "stderr",
          "output_type": "stream",
          "text": [
            "100%|██████████| 150/150 [00:00<00:00, 567.18it/s]\n"
          ]
        }
      ],
      "source": [
        "from sklearn.decomposition import PCA  # Import PCA\n",
        "from sklearn.preprocessing import StandardScaler\n",
        "from sklearn.discriminant_analysis import LinearDiscriminantAnalysis\n",
        "\n",
        "data_dir = os.path.join(root_path, 'validation')\n",
        "data_transforms = transforms.Compose([\n",
        "    transforms.Resize((224, 224)),\n",
        "    transforms.ToTensor(),\n",
        "    transforms.Normalize(mean=mean, std=std)\n",
        "])\n",
        "val_dataset = datasets.ImageFolder(data_dir, transform=data_transforms)\n",
        "\n",
        "n = len(val_dataset)\n",
        "X_val = np.zeros((n, 3, 224, 224))\n",
        "y_val = np.zeros(n)\n",
        "\n",
        "for i, (inputs, labels) in enumerate(tqdm(val_dataset)):\n",
        "    X_val[i] = inputs.numpy()\n",
        "    y_val[i] = labels\n",
        "\n",
        "n, d1, d2, d3 = X_val.shape\n",
        "X_val = X_val.reshape((n, d1 * d2 * d3))\n",
        "n, d1, d2, d3 = X_train.shape\n",
        "X_train = X_train.reshape((n, d1 * d2 * d3))\n",
        "\n",
        "scaler = StandardScaler()\n",
        "X_train = scaler.fit_transform(X_train)\n",
        "X_val = scaler.transform(X_val)\n",
        "\n",
        "# pca = PCA(0.90)  # Retain 95% of variance\n",
        "\n",
        "# X_train = pca.fit_transform(X_train)\n",
        "# X_val = pca.transform(X_val)\n",
        "\n",
        "lda = LinearDiscriminantAnalysis()\n",
        "X_train = lda.fit_transform(X_train, y)\n",
        "X_val = lda.transform(X_val)\n"
      ]
    },
    {
      "cell_type": "code",
      "execution_count": null,
      "metadata": {
        "id": "A-kEau85tzy0",
        "outputId": "45f3ee64-1f4c-4874-8e4e-7ed63ea0f36f"
      },
      "outputs": [
        {
          "name": "stdout",
          "output_type": "stream",
          "text": [
            "Accuracy: 1.0 0.7466666666666667\n",
            "Accuracy: 0.9999056692764834 0.7333333333333333\n",
            "Accuracy: 0.9998113385529667 0.7466666666666667\n",
            "Accuracy: 0.9998113385529667 0.7333333333333333\n",
            "Accuracy: 0.99971700782945 0.7466666666666667\n",
            "Accuracy: 0.99971700782945 0.74\n",
            "Accuracy: 0.99971700782945 0.74\n",
            "Accuracy: 0.9996226771059334 0.74\n",
            "Accuracy: 0.9995283463824167 0.74\n",
            "Accuracy: 0.9994340156589001 0.76\n",
            "Accuracy: 0.9993396849353835 0.76\n",
            "Accuracy: 0.9988680313178002 0.76\n",
            "Accuracy: 0.9990566927648336 0.76\n",
            "Accuracy: 0.9987737005942836 0.76\n",
            "Accuracy: 0.9987737005942836 0.76\n",
            "Accuracy: 0.9983020469767003 0.7533333333333333\n",
            "Accuracy: 0.9984907084237337 0.76\n",
            "Accuracy: 0.998113385529667 0.76\n",
            "Accuracy: 0.9980190548061504 0.76\n",
            "Accuracy: 0.9974530704650505 0.76\n",
            "Accuracy: 0.9972644090180172 0.76\n",
            "Accuracy: 0.9970757475709838 0.76\n",
            "Accuracy: 0.9971700782945006 0.7666666666666667\n",
            "Accuracy: 0.9971700782945006 0.76\n",
            "Accuracy: 0.9971700782945006 0.76\n",
            "Accuracy: 0.9967927554004339 0.76\n",
            "Accuracy: 0.9966984246769173 0.76\n",
            "Accuracy: 0.996226771059334 0.76\n",
            "Accuracy: 0.9963211017828507 0.7733333333333333\n",
            "Accuracy: 0.996226771059334 0.7666666666666667\n",
            "Accuracy: 0.9960381096123008 0.7666666666666667\n",
            "Accuracy: 0.9958494481652674 0.7666666666666667\n",
            "Accuracy: 0.995943778888784 0.7666666666666667\n",
            "Accuracy: 0.995943778888784 0.76\n",
            "Accuracy: 0.9957551174417508 0.76\n",
            "Accuracy: 0.995943778888784 0.7533333333333333\n",
            "Accuracy: 0.9957551174417508 0.7533333333333333\n",
            "Accuracy: 0.9953777945476842 0.7533333333333333\n",
            "Accuracy: 0.9952834638241675 0.7533333333333333\n",
            "Accuracy: 0.9951891331006509 0.7533333333333333\n",
            "Accuracy: 0.9950004716536176 0.7533333333333333\n",
            "Accuracy: 0.9948118102065843 0.7533333333333333\n",
            "Accuracy: 0.9950948023771342 0.76\n",
            "Accuracy: 0.9950004716536176 0.7533333333333333\n",
            "Accuracy: 0.9950948023771342 0.76\n",
            "Accuracy: 0.9947174794830677 0.7666666666666667\n",
            "Accuracy: 0.9945288180360343 0.7666666666666667\n",
            "Accuracy: 0.994340156589001 0.7666666666666667\n",
            "Accuracy: 0.994340156589001 0.7733333333333333\n",
            "Accuracy: 0.9941514951419678 0.7666666666666667\n",
            "Accuracy: 0.9941514951419678 0.76\n",
            "Accuracy: 0.994057164418451 0.7666666666666667\n",
            "Accuracy: 0.9942458258654844 0.7666666666666667\n",
            "Accuracy: 0.9941514951419678 0.76\n",
            "Accuracy: 0.9939628336949344 0.76\n",
            "Accuracy: 0.9939628336949344 0.76\n",
            "Accuracy: 0.9939628336949344 0.76\n",
            "Accuracy: 0.9937741722479011 0.76\n",
            "Accuracy: 0.9936798415243845 0.76\n",
            "Accuracy: 0.9933025186303179 0.76\n",
            "Accuracy: 0.9933968493538345 0.76\n",
            "Accuracy: 0.9933968493538345 0.76\n",
            "Accuracy: 0.9931138571832846 0.76\n",
            "Accuracy: 0.9932081879068012 0.76\n",
            "Accuracy: 0.9929251957362513 0.76\n",
            "Accuracy: 0.993019526459768 0.76\n",
            "Accuracy: 0.993019526459768 0.76\n",
            "Accuracy: 0.9928308650127347 0.76\n",
            "Accuracy: 0.9929251957362513 0.76\n",
            "Accuracy: 0.9926422035657013 0.76\n",
            "Accuracy: 0.9926422035657013 0.76\n",
            "Accuracy: 0.9924535421186681 0.76\n",
            "Accuracy: 0.9921705499481182 0.76\n",
            "Accuracy: 0.9923592113951514 0.7533333333333333\n",
            "Accuracy: 0.9921705499481182 0.7533333333333333\n",
            "Accuracy: 0.9917932270540515 0.7533333333333333\n",
            "Accuracy: 0.9918875577775682 0.7533333333333333\n",
            "Accuracy: 0.9917932270540515 0.7533333333333333\n",
            "Accuracy: 0.9918875577775682 0.76\n",
            "Accuracy: 0.9916045656070182 0.76\n",
            "Accuracy: 0.9916045656070182 0.76\n",
            "Accuracy: 0.9913215734364682 0.76\n",
            "Accuracy: 0.9912272427129516 0.76\n",
            "Accuracy: 0.991132911989435 0.76\n",
            "Accuracy: 0.9910385812659183 0.76\n",
            "Accuracy: 0.9910385812659183 0.76\n",
            "Accuracy: 0.9912272427129516 0.7533333333333333\n",
            "Accuracy: 0.9912272427129516 0.76\n",
            "Accuracy: 0.9912272427129516 0.7533333333333333\n",
            "Accuracy: 0.9909442505424017 0.7533333333333333\n",
            "Accuracy: 0.991132911989435 0.7533333333333333\n",
            "Accuracy: 0.9910385812659183 0.7533333333333333\n",
            "Accuracy: 0.9906612583718517 0.7466666666666667\n",
            "Accuracy: 0.9906612583718517 0.7533333333333333\n",
            "Accuracy: 0.990849919818885 0.7533333333333333\n",
            "Accuracy: 0.9907555890953683 0.7533333333333333\n",
            "Accuracy: 0.990849919818885 0.7533333333333333\n",
            "Accuracy: 0.9907555890953683 0.7533333333333333\n",
            "Accuracy: 0.9907555890953683 0.7533333333333333\n",
            "Best Accuracy: 1.0 1\n",
            "Best Accuracy: 0.7733333333333333 29\n"
          ]
        }
      ],
      "source": [
        "from sklearn.neighbors import KNeighborsClassifier\n",
        "from sklearn.metrics import accuracy_score\n",
        "\n",
        "best_accuracy_validation = 0\n",
        "best_n_neighbors_validation = 1\n",
        "\n",
        "best_accuracy_training = 0\n",
        "best_n_neighbors_training = 1\n",
        "neighbors_range = range(1,100)\n",
        "\n",
        "for n_neighbors in neighbors_range:\n",
        "    model = KNeighborsClassifier(n_neighbors=n_neighbors)\n",
        "    model.fit(X_train, y)\n",
        "\n",
        "    yp = model.predict(X_train)\n",
        "    training_accuracy = accuracy_score(y, yp)\n",
        "\n",
        "    yp = model.predict(X_val)\n",
        "    validation_accuracy = accuracy_score(y_val, yp)\n",
        "\n",
        "    if training_accuracy > best_accuracy_training:\n",
        "        best_accuracy_training = training_accuracy\n",
        "        best_n_neighbors_training = n_neighbors\n",
        "\n",
        "    if validation_accuracy > best_accuracy_validation:\n",
        "        best_accuracy_validation = validation_accuracy\n",
        "        best_n_neighbors_validation = n_neighbors\n",
        "\n",
        "    print(\"Accuracy:\",training_accuracy, validation_accuracy)\n",
        "\n",
        "print(\"Best Accuracy:\",best_accuracy_training, best_n_neighbors_training)\n",
        "print(\"Best Accuracy:\",best_accuracy_validation, best_n_neighbors_validation)\n",
        "\n"
      ]
    }
  ],
  "metadata": {
    "kernelspec": {
      "display_name": "Python 3",
      "language": "python",
      "name": "python3"
    },
    "language_info": {
      "codemirror_mode": {
        "name": "ipython",
        "version": 3
      },
      "file_extension": ".py",
      "mimetype": "text/x-python",
      "name": "python",
      "nbconvert_exporter": "python",
      "pygments_lexer": "ipython3",
      "version": "3.12.1"
    },
    "colab": {
      "provenance": []
    }
  },
  "nbformat": 4,
  "nbformat_minor": 0
}