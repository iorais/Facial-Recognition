{
  "cells": [
    {
      "cell_type": "code",
      "execution_count": 4,
      "metadata": {
        "id": "A-kEau85tzy0",
        "outputId": "45f3ee64-1f4c-4874-8e4e-7ed63ea0f36f"
      },
      "outputs": [
        {
          "name": "stdout",
          "output_type": "stream",
          "text": [
            "using pca and lda model\n",
            "(10601, 32) (150, 32)\n"
          ]
        },
        {
          "ename": "NameError",
          "evalue": "name 'y' is not defined",
          "output_type": "error",
          "traceback": [
            "\u001b[0;31m---------------------------------------------------------------------------\u001b[0m",
            "\u001b[0;31mNameError\u001b[0m                                 Traceback (most recent call last)",
            "Cell \u001b[0;32mIn[4], line 45\u001b[0m\n\u001b[1;32m     43\u001b[0m \u001b[38;5;28;01mfor\u001b[39;00m n_neighbors \u001b[38;5;129;01min\u001b[39;00m neighbors_range:\n\u001b[1;32m     44\u001b[0m     model \u001b[38;5;241m=\u001b[39m KNeighborsClassifier(n_neighbors\u001b[38;5;241m=\u001b[39mn_neighbors)\n\u001b[0;32m---> 45\u001b[0m     model\u001b[38;5;241m.\u001b[39mfit(X_train, \u001b[43my\u001b[49m)\n\u001b[1;32m     47\u001b[0m     yp \u001b[38;5;241m=\u001b[39m model\u001b[38;5;241m.\u001b[39mpredict(X_train)\n\u001b[1;32m     48\u001b[0m     training_accuracy \u001b[38;5;241m=\u001b[39m accuracy_score(y, yp)\n",
            "\u001b[0;31mNameError\u001b[0m: name 'y' is not defined"
          ]
        }
      ],
      "source": [
        "from sklearn.neighbors import KNeighborsClassifier\n",
        "from sklearn.metrics import accuracy_score\n",
        "import numpy as np\n",
        "import pickle\n",
        "\n",
        "use_pca = True\n",
        "use_lda = True\n",
        "\n",
        "if use_pca and not use_lda:\n",
        "    print('using pca model')\n",
        "    X_train = np.load(',/dimension_reduced_data/X_train_pca.npy')\n",
        "    X_val = np.load('/dimension_reduced_data/X_val_pca.npy')\n",
        "    # with open('/dimension_reduced_data/pca_model.pkl', 'rb') as f:\n",
        "    #     trained_model = pickle.load(f)\n",
        "\n",
        "if use_lda and not use_pca:\n",
        "    print('using lda model')\n",
        "    X_train = np.load('./dimension_reduced_data/X_train_lda.npy')\n",
        "    X_val = np.load('/dimension_reduced_data/X_val_lda.npy')\n",
        "    # with open('/dimension_reduced_data/lda_model.pkl', 'rb') as f:\n",
        "    #     trained_model = pickle.load(f)\n",
        "\n",
        "if use_pca and use_lda:\n",
        "    print('using pca and lda model')\n",
        "    X_train = np.load('./dimension_reduced_data/X_train_pca_lda.npy')\n",
        "    X_val = np.load('./dimension_reduced_data/X_val_pca_lda.npy')\n",
        "    # with open('/dimension_reduced_data/pca_lda_model.pkl', 'rb') as f:\n",
        "    #     trained_model = pickle.load(f)\n",
        "\n",
        "\n",
        "print(X_train.shape, X_val.shape)\n",
        "\n",
        "best_accuracy_validation = 0\n",
        "best_n_neighbors_validation = 1\n",
        "\n",
        "best_accuracy_training = 0\n",
        "best_n_neighbors_training = 1\n",
        "neighbors_range = range(1,100)\n",
        "\n",
        "y_train = np.load('dimension_reduced_data/y_train.npy')\n",
        "y_val = np.load('dimension_reduced_data/y_val.npy')\n",
        "\n",
        "for n_neighbors in neighbors_range:\n",
        "    model = KNeighborsClassifier(n_neighbors=n_neighbors)\n",
        "    model.fit(X_train, y_train)\n",
        "\n",
        "    yp = model.predict(X_train)\n",
        "    training_accuracy = accuracy_score(y_train, yp)\n",
        "\n",
        "    yp = model.predict(X_val)\n",
        "    validation_accuracy = accuracy_score(y_val, yp)\n",
        "\n",
        "    if training_accuracy > best_accuracy_training:\n",
        "        best_accuracy_training = training_accuracy\n",
        "        best_n_neighbors_training = n_neighbors\n",
        "\n",
        "    if validation_accuracy > best_accuracy_validation:\n",
        "        best_accuracy_validation = validation_accuracy\n",
        "        best_n_neighbors_validation = n_neighbors\n",
        "\n",
        "    print(\"Accuracy:\",training_accuracy, validation_accuracy)\n",
        "\n",
        "print(\"Best Accuracy:\",best_accuracy_training, best_n_neighbors_training)\n",
        "print(\"Best Accuracy:\",best_accuracy_validation, best_n_neighbors_validation)\n",
        "\n"
      ]
    }
  ],
  "metadata": {
    "colab": {
      "provenance": []
    },
    "kernelspec": {
      "display_name": "Python 3",
      "language": "python",
      "name": "python3"
    },
    "language_info": {
      "codemirror_mode": {
        "name": "ipython",
        "version": 3
      },
      "file_extension": ".py",
      "mimetype": "text/x-python",
      "name": "python",
      "nbconvert_exporter": "python",
      "pygments_lexer": "ipython3",
      "version": "3.10.10"
    }
  },
  "nbformat": 4,
  "nbformat_minor": 0
}
