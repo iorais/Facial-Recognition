{
  "cells": [
    {
      "cell_type": "code",
      "execution_count": 8,
      "metadata": {
        "id": "A-kEau85tzy0",
        "outputId": "45f3ee64-1f4c-4874-8e4e-7ed63ea0f36f"
      },
      "outputs": [
        {
          "name": "stdout",
          "output_type": "stream",
          "text": [
            "using pca and lda model\n",
            "Fitting 5 folds for each of 69 candidates, totalling 345 fits\n",
            "Best Parameters: {'n_neighbors': 1}\n",
            "Best Accuracy: 0.9121637751533193\n",
            "Accuracy: 1.0 0.03333333333333333\n"
          ]
        }
      ],
      "source": [
        "from sklearn.neighbors import KNeighborsClassifier\n",
        "from sklearn.metrics import accuracy_score\n",
        "import numpy as np\n",
        "import pickle\n",
        "from sklearn.model_selection import GridSearchCV\n",
        "\n",
        "use_pca = True\n",
        "use_lda = True\n",
        "\n",
        "if use_pca and not use_lda:\n",
        "    print('using pca model')\n",
        "    X_train = np.load(',/dimension_reduced_data/X_train_pca.npy')\n",
        "    X_val = np.load('/dimension_reduced_data/X_val_pca.npy')\n",
        "    # with open('/dimension_reduced_data/pca_model.pkl', 'rb') as f:\n",
        "    #     trained_model = pickle.load(f)\n",
        "\n",
        "if use_lda and not use_pca:\n",
        "    print('using lda model')\n",
        "    X_train = np.load('./dimension_reduced_data/X_train_lda.npy')\n",
        "    X_val = np.load('/dimension_reduced_data/X_val_lda.npy')\n",
        "    # with open('/dimension_reduced_data/lda_model.pkl', 'rb') as f:\n",
        "    #     trained_model = pickle.load(f)\n",
        "\n",
        "if use_pca and use_lda:\n",
        "    print('using pca and lda model')\n",
        "    X_train = np.load('./dimension_reduced_data/X_train_pca_lda.npy')\n",
        "    X_val = np.load('./dimension_reduced_data/X_val_pca_lda.npy')\n",
        "    # with open('/dimension_reduced_data/pca_lda_model.pkl', 'rb') as f:\n",
        "    #     trained_model = pickle.load(f)\n",
        "\n",
        "\n",
        "param_grid = {\n",
        "    'n_neighbors': range(1, 70),\n",
        "}\n",
        "\n",
        "y_train = np.load('dimension_reduced_data/y_train.npy')\n",
        "y_val = np.load('dimension_reduced_data/y_val.npy')\n",
        "\n",
        "knn = KNeighborsClassifier()\n",
        "model = GridSearchCV(knn, param_grid, cv=5, scoring='accuracy', verbose=1)\n",
        "model.fit(X_train, y_train)\n",
        "\n",
        "\n",
        "best_parameters = model.best_params_\n",
        "best_accuracy = model.best_score_\n",
        "best_model = model.best_estimator_\n",
        "\n",
        "print(\"Best Parameters:\", best_parameters)\n",
        "print(\"Best Accuracy:\", best_accuracy)\n",
        "\n",
        "yp = best_model.predict(X_train)\n",
        "training_accuracy = accuracy_score(y_train, yp)\n",
        "\n",
        "yp = best_model.predict(X_val)\n",
        "validation_accuracy = accuracy_score(y_val, yp)\n",
        "\n",
        "print(\"Accuracy:\",training_accuracy, validation_accuracy)\n",
        "\n"
      ]
    }
  ],
  "metadata": {
    "colab": {
      "provenance": []
    },
    "kernelspec": {
      "display_name": "Python 3",
      "language": "python",
      "name": "python3"
    },
    "language_info": {
      "codemirror_mode": {
        "name": "ipython",
        "version": 3
      },
      "file_extension": ".py",
      "mimetype": "text/x-python",
      "name": "python",
      "nbconvert_exporter": "python",
      "pygments_lexer": "ipython3",
      "version": "3.10.10"
    }
  },
  "nbformat": 4,
  "nbformat_minor": 0
}
