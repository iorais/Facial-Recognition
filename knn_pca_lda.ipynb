{
  "cells": [
    {
      "cell_type": "code",
      "execution_count": 5,
      "metadata": {
        "id": "lFA9sXRotzyy"
      },
      "outputs": [],
      "source": [
        "import os\n",
        "from PIL import Image\n",
        "\n",
        "import numpy as np\n",
        "\n",
        "import torch.nn as nn\n",
        "import torch.optim as optim\n",
        "import torch.utils.data\n",
        "import torchvision.datasets as datasets\n",
        "from torchvision import transforms\n",
        "\n",
        "from tqdm import tqdm"
      ]
    },
    {
      "cell_type": "code",
      "execution_count": 16,
      "metadata": {
        "id": "7mSy8h_Xtzyz"
      },
      "outputs": [],
      "source": [
        "# path to Git Repo from Google CoLab file\n",
        "path = './'\n",
        "\n",
        "root_path = path if os.path.isdir(path) else ''\n",
        "\n",
        "data_dir = os.path.join(root_path, 'training')"
      ]
    },
    {
      "cell_type": "code",
      "execution_count": 17,
      "metadata": {
        "id": "D5X8y-Vvtzyz"
      },
      "outputs": [],
      "source": [
        "# load dataset\n",
        "initial_transforms = transforms.Compose([\n",
        "    transforms.Resize((224, 224)),\n",
        "    transforms.ToTensor(),\n",
        "])\n",
        "\n",
        "dataset = datasets.ImageFolder(data_dir, transform=initial_transforms)\n",
        "\n",
        "def get_mean_std(loader):\n",
        "    # Compute the mean and standard deviation of all pixels in the dataset\n",
        "    num_pixels = 0\n",
        "    mean = 0.0\n",
        "    std = 0.0\n",
        "    images: torch.Tensor\n",
        "    for images, _ in loader:\n",
        "        batch_size, num_channels, height, width = images.shape\n",
        "        num_pixels += batch_size * height * width\n",
        "        mean += images.mean(axis=(0, 2, 3)).sum()\n",
        "        std += images.std(axis=(0, 2, 3)).sum()\n",
        "\n",
        "    mean /= num_pixels\n",
        "    std /= num_pixels\n",
        "\n",
        "    return mean, std\n",
        "\n",
        "batch_size = 32\n",
        "loader = torch.utils.data.DataLoader(dataset, batch_size=batch_size, shuffle=True)\n",
        "\n",
        "mean, std = get_mean_std(loader)\n",
        "\n",
        "data_transforms = transforms.Compose([\n",
        "    transforms.Resize((224, 224)),\n",
        "    transforms.ToTensor(),\n",
        "    transforms.Normalize(mean=mean, std=std)\n",
        "])\n",
        "\n",
        "dataset = datasets.ImageFolder(data_dir, transform=data_transforms)"
      ]
    },
    {
      "cell_type": "code",
      "execution_count": 18,
      "metadata": {
        "id": "FKz0hpaVtzyz",
        "outputId": "e874dc56-25b5-42bb-86a4-ff3d8a7f9bf5"
      },
      "outputs": [
        {
          "name": "stderr",
          "output_type": "stream",
          "text": [
            "100%|██████████| 10601/10601 [00:11<00:00, 923.32it/s]\n"
          ]
        }
      ],
      "source": [
        "n = len(dataset)\n",
        "X_train = np.zeros((n, 3, 224, 224))\n",
        "y = np.zeros(n)\n",
        "\n",
        "for i, (inputs, labels) in enumerate(tqdm(dataset)):\n",
        "    X_train[i] = inputs.numpy()\n",
        "    y[i] = labels"
      ]
    },
    {
      "cell_type": "code",
      "execution_count": 4,
      "metadata": {
        "id": "yHau4qWAtzy0",
        "outputId": "575383f4-cab0-4fdb-9f7b-d80ad4279f55"
      },
      "outputs": [
        {
          "ename": "NameError",
          "evalue": "name 'os' is not defined",
          "output_type": "error",
          "traceback": [
            "\u001b[0;31m---------------------------------------------------------------------------\u001b[0m",
            "\u001b[0;31mNameError\u001b[0m                                 Traceback (most recent call last)",
            "Cell \u001b[0;32mIn[4], line 10\u001b[0m\n\u001b[1;32m      7\u001b[0m apply_pca \u001b[38;5;241m=\u001b[39m \u001b[38;5;28;01mTrue\u001b[39;00m\n\u001b[1;32m      8\u001b[0m apply_lda \u001b[38;5;241m=\u001b[39m \u001b[38;5;28;01mTrue\u001b[39;00m\n\u001b[0;32m---> 10\u001b[0m data_dir \u001b[38;5;241m=\u001b[39m \u001b[43mos\u001b[49m\u001b[38;5;241m.\u001b[39mpath\u001b[38;5;241m.\u001b[39mjoin(root_path, \u001b[38;5;124m'\u001b[39m\u001b[38;5;124mvalidation\u001b[39m\u001b[38;5;124m'\u001b[39m)\n\u001b[1;32m     11\u001b[0m data_transforms \u001b[38;5;241m=\u001b[39m transforms\u001b[38;5;241m.\u001b[39mCompose([\n\u001b[1;32m     12\u001b[0m     transforms\u001b[38;5;241m.\u001b[39mResize((\u001b[38;5;241m224\u001b[39m, \u001b[38;5;241m224\u001b[39m)),\n\u001b[1;32m     13\u001b[0m     transforms\u001b[38;5;241m.\u001b[39mToTensor(),\n\u001b[1;32m     14\u001b[0m     transforms\u001b[38;5;241m.\u001b[39mNormalize(mean\u001b[38;5;241m=\u001b[39mmean, std\u001b[38;5;241m=\u001b[39mstd)\n\u001b[1;32m     15\u001b[0m ])\n\u001b[1;32m     16\u001b[0m val_dataset \u001b[38;5;241m=\u001b[39m datasets\u001b[38;5;241m.\u001b[39mImageFolder(data_dir, transform\u001b[38;5;241m=\u001b[39mdata_transforms)\n",
            "\u001b[0;31mNameError\u001b[0m: name 'os' is not defined"
          ]
        }
      ],
      "source": [
        "from sklearn.decomposition import PCA  # Import PCA\n",
        "from sklearn.preprocessing import StandardScaler\n",
        "from sklearn.discriminant_analysis import LinearDiscriminantAnalysis\n",
        "import numpy as np\n",
        "import pickle\n",
        "\n",
        "apply_pca = True\n",
        "apply_lda = True\n",
        "\n",
        "data_dir = os.path.join(root_path, 'validation')\n",
        "data_transforms = transforms.Compose([\n",
        "    transforms.Resize((224, 224)),\n",
        "    transforms.ToTensor(),\n",
        "    transforms.Normalize(mean=mean, std=std)\n",
        "])\n",
        "val_dataset = datasets.ImageFolder(data_dir, transform=data_transforms)\n",
        "\n",
        "n = len(val_dataset)\n",
        "X_val = np.zeros((n, 3, 224, 224))\n",
        "y_val = np.zeros(n)\n",
        "\n",
        "for i, (inputs, labels) in enumerate(tqdm(val_dataset)):\n",
        "    X_val[i] = inputs.numpy()\n",
        "    y_val[i] = labels\n",
        "\n",
        "n, d1, d2, d3 = X_val.shape\n",
        "X_val = X_val.reshape((n, d1 * d2 * d3))\n",
        "n, d1, d2, d3 = X_train.shape\n",
        "X_train = X_train.reshape((n, d1 * d2 * d3))\n",
        "\n",
        "scaler = StandardScaler()\n",
        "X_train = scaler.fit_transform(X_train)\n",
        "X_val = scaler.transform(X_val)\n",
        "\n",
        "if apply_pca:\n",
        "    pca = PCA(0.90)  # Retain 95% of variance\n",
        "    X_train = pca.fit_transform(X_train)\n",
        "    X_val = pca.transform(X_val)\n",
        "    with open(f'pca_model.pkl', 'wb') as f:\n",
        "        pickle.dump(model, f)\n",
        "    np.save(f'X_train_pca.npy', X_train)\n",
        "    np.save(f'X_val_pca.npy', X_val)\n",
        "\n",
        "if apply_lda:\n",
        "    lda = LinearDiscriminantAnalysis()\n",
        "    X_train = lda.fit_transform(X_train, y)\n",
        "    X_val = lda.transform(X_val)\n",
        "\n",
        "    if apply_pca:\n",
        "        with open(f'pca_lda_model.pkl', 'wb') as f:\n",
        "            pickle.dump(model, f)\n",
        "        np.save(f'X_train_pca_lda.npy', X_train)\n",
        "        np.save(f'X_val_pca_lda.npy', X_val)\n",
        "\n",
        "    else:\n",
        "        with open(f'lda_model.pkl', 'wb') as f:\n",
        "            pickle.dump(model, f)\n",
        "        np.save(f'X_train_lda.npy', X_train)\n",
        "        np.save(f'X_val_lda.npy', X_val)"
      ]
    },
    {
      "cell_type": "code",
      "execution_count": 3,
      "metadata": {
        "id": "A-kEau85tzy0",
        "outputId": "45f3ee64-1f4c-4874-8e4e-7ed63ea0f36f"
      },
      "outputs": [
        {
          "ename": "FileNotFoundError",
          "evalue": "[Errno 2] No such file or directory: 'X_train_pca_lda.npy'",
          "output_type": "error",
          "traceback": [
            "\u001b[0;31m---------------------------------------------------------------------------\u001b[0m",
            "\u001b[0;31mFileNotFoundError\u001b[0m                         Traceback (most recent call last)",
            "Cell \u001b[0;32mIn[3], line 22\u001b[0m\n\u001b[1;32m     19\u001b[0m         lda \u001b[38;5;241m=\u001b[39m pickle\u001b[38;5;241m.\u001b[39mload(f)\n\u001b[1;32m     21\u001b[0m \u001b[38;5;28;01mif\u001b[39;00m use_pca \u001b[38;5;129;01mand\u001b[39;00m use_lda:\n\u001b[0;32m---> 22\u001b[0m     X_train_lda \u001b[38;5;241m=\u001b[39m \u001b[43mnp\u001b[49m\u001b[38;5;241;43m.\u001b[39;49m\u001b[43mload\u001b[49m\u001b[43m(\u001b[49m\u001b[38;5;124;43m'\u001b[39;49m\u001b[38;5;124;43mX_train_pca_lda.npy\u001b[39;49m\u001b[38;5;124;43m'\u001b[39;49m\u001b[43m)\u001b[49m\n\u001b[1;32m     23\u001b[0m     X_val_lda \u001b[38;5;241m=\u001b[39m np\u001b[38;5;241m.\u001b[39mload(\u001b[38;5;124m'\u001b[39m\u001b[38;5;124mX_val_pca_lda.npy\u001b[39m\u001b[38;5;124m'\u001b[39m)\n\u001b[1;32m     24\u001b[0m     \u001b[38;5;28;01mwith\u001b[39;00m \u001b[38;5;28mopen\u001b[39m(\u001b[38;5;124m'\u001b[39m\u001b[38;5;124mpca_lda_model.pkl\u001b[39m\u001b[38;5;124m'\u001b[39m, \u001b[38;5;124m'\u001b[39m\u001b[38;5;124mrb\u001b[39m\u001b[38;5;124m'\u001b[39m) \u001b[38;5;28;01mas\u001b[39;00m f:\n",
            "File \u001b[0;32m/Library/Frameworks/Python.framework/Versions/3.12/lib/python3.12/site-packages/numpy/lib/npyio.py:427\u001b[0m, in \u001b[0;36mload\u001b[0;34m(file, mmap_mode, allow_pickle, fix_imports, encoding, max_header_size)\u001b[0m\n\u001b[1;32m    425\u001b[0m     own_fid \u001b[38;5;241m=\u001b[39m \u001b[38;5;28;01mFalse\u001b[39;00m\n\u001b[1;32m    426\u001b[0m \u001b[38;5;28;01melse\u001b[39;00m:\n\u001b[0;32m--> 427\u001b[0m     fid \u001b[38;5;241m=\u001b[39m stack\u001b[38;5;241m.\u001b[39menter_context(\u001b[38;5;28;43mopen\u001b[39;49m\u001b[43m(\u001b[49m\u001b[43mos_fspath\u001b[49m\u001b[43m(\u001b[49m\u001b[43mfile\u001b[49m\u001b[43m)\u001b[49m\u001b[43m,\u001b[49m\u001b[43m \u001b[49m\u001b[38;5;124;43m\"\u001b[39;49m\u001b[38;5;124;43mrb\u001b[39;49m\u001b[38;5;124;43m\"\u001b[39;49m\u001b[43m)\u001b[49m)\n\u001b[1;32m    428\u001b[0m     own_fid \u001b[38;5;241m=\u001b[39m \u001b[38;5;28;01mTrue\u001b[39;00m\n\u001b[1;32m    430\u001b[0m \u001b[38;5;66;03m# Code to distinguish from NumPy binary files and pickles.\u001b[39;00m\n",
            "\u001b[0;31mFileNotFoundError\u001b[0m: [Errno 2] No such file or directory: 'X_train_pca_lda.npy'"
          ]
        }
      ],
      "source": [
        "from sklearn.neighbors import KNeighborsClassifier\n",
        "from sklearn.metrics import accuracy_score\n",
        "import numpy as np\n",
        "import pickle\n",
        "\n",
        "use_pca = True\n",
        "use_lda = True\n",
        "\n",
        "if use_pca and not use_lda:\n",
        "    X_train_lda = np.load('X_train_pca.npy')\n",
        "    X_val_lda = np.load('X_val_pca.npy')\n",
        "    with open('pca_model.pkl', 'rb') as f:\n",
        "        lda = pickle.load(f)\n",
        "\n",
        "if use_lda and not use_pca:\n",
        "    X_train_lda = np.load('X_train_lda.npy')\n",
        "    X_val_lda = np.load('X_val_lda.npy')\n",
        "    with open('lda_model.pkl', 'rb') as f:\n",
        "        lda = pickle.load(f)\n",
        "\n",
        "if use_pca and use_lda:\n",
        "    X_train_lda = np.load('X_train_pca_lda.npy')\n",
        "    X_val_lda = np.load('X_val_pca_lda.npy')\n",
        "    with open('pca_lda_model.pkl', 'rb') as f:\n",
        "        lda = pickle.load(f)\n",
        "\n",
        "\n",
        "best_accuracy_validation = 0\n",
        "best_n_neighbors_validation = 1\n",
        "\n",
        "best_accuracy_training = 0\n",
        "best_n_neighbors_training = 1\n",
        "neighbors_range = range(1,100)\n",
        "\n",
        "for n_neighbors in neighbors_range:\n",
        "    model = KNeighborsClassifier(n_neighbors=n_neighbors)\n",
        "    model.fit(X_train, y)\n",
        "\n",
        "    yp = model.predict(X_train)\n",
        "    training_accuracy = accuracy_score(y, yp)\n",
        "\n",
        "    yp = model.predict(X_val)\n",
        "    validation_accuracy = accuracy_score(y_val, yp)\n",
        "\n",
        "    if training_accuracy > best_accuracy_training:\n",
        "        best_accuracy_training = training_accuracy\n",
        "        best_n_neighbors_training = n_neighbors\n",
        "\n",
        "    if validation_accuracy > best_accuracy_validation:\n",
        "        best_accuracy_validation = validation_accuracy\n",
        "        best_n_neighbors_validation = n_neighbors\n",
        "\n",
        "    print(\"Accuracy:\",training_accuracy, validation_accuracy)\n",
        "\n",
        "print(\"Best Accuracy:\",best_accuracy_training, best_n_neighbors_training)\n",
        "print(\"Best Accuracy:\",best_accuracy_validation, best_n_neighbors_validation)\n",
        "\n"
      ]
    }
  ],
  "metadata": {
    "colab": {
      "provenance": []
    },
    "kernelspec": {
      "display_name": "Python 3",
      "language": "python",
      "name": "python3"
    },
    "language_info": {
      "codemirror_mode": {
        "name": "ipython",
        "version": 3
      },
      "file_extension": ".py",
      "mimetype": "text/x-python",
      "name": "python",
      "nbconvert_exporter": "python",
      "pygments_lexer": "ipython3",
      "version": "3.12.1"
    }
  },
  "nbformat": 4,
  "nbformat_minor": 0
}
