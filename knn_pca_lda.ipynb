{
  "cells": [
    {
      "cell_type": "code",
      "execution_count": 58,
      "metadata": {
        "id": "A-kEau85tzy0",
        "outputId": "45f3ee64-1f4c-4874-8e4e-7ed63ea0f36f"
      },
      "outputs": [
        {
          "name": "stdout",
          "output_type": "stream",
          "text": [
            "using pca and lda model\n",
            "(9377, 31)\n",
            "Fitting 5 folds for each of 56 candidates, totalling 280 fits\n",
            "Best Parameters: {'metric': 'euclidean', 'n_neighbors': 14, 'weights': 'uniform'}\n",
            "Best Accuracy: 0.9987203411513859\n",
            "Accuracy: 0.998933560840354 0.9133333333333333\n"
          ]
        }
      ],
      "source": [
        "from sklearn.neighbors import KNeighborsClassifier\n",
        "from sklearn.metrics import accuracy_score\n",
        "import numpy as np\n",
        "import pickle\n",
        "from sklearn.model_selection import GridSearchCV\n",
        "\n",
        "resolution = 120\n",
        "variance = 90\n",
        "data_dir = f'dimension_reduced_data_{resolution}_res_{variance}_var'\n",
        "\n",
        "use_pca = True\n",
        "use_lda = True\n",
        "\n",
        "if use_pca and not use_lda:\n",
        "    print('using pca model')\n",
        "    X_train = np.load(f'{data_dir}/X_train_pca.npy')\n",
        "    X_val = np.load(f'{data_dir}/X_val_pca.npy')\n",
        "\n",
        "elif use_lda and not use_pca:\n",
        "    print('using lda model')\n",
        "    X_train = np.load(f'{data_dir}/X_train_lda.npy')\n",
        "    X_val = np.load(f'{data_dir}/X_val_lda.npy')\n",
        "\n",
        "elif use_pca and use_lda:\n",
        "    print('using pca and lda model')\n",
        "    X_train = np.load(f'{data_dir}/X_train_pca_lda.npy')\n",
        "    X_val = np.load(f'{data_dir}/X_val_pca_lda.npy')\n",
        "\n",
        "y_train = np.load(f'{data_dir}/y_train.npy')\n",
        "y_val = np.load(f'{data_dir}/y_val.npy')\n",
        "\n",
        "print(X_train.shape)\n",
        "\n",
        "\n",
        "param_grid = {\n",
        "    'n_neighbors': [4,5,6,7,8,10,12,14,16,20,22,25,30,40],\n",
        "    'weights': ['uniform', 'distance'],\n",
        "    'metric': ['euclidean', 'manhattan']\n",
        "}\n",
        "\n",
        "knn = KNeighborsClassifier()\n",
        "model = GridSearchCV(knn, param_grid, cv=5, scoring='accuracy', verbose=1)\n",
        "model.fit(X_train, y_train)\n",
        "\n",
        "\n",
        "best_parameters = model.best_params_\n",
        "best_accuracy = model.best_score_\n",
        "best_model = model.best_estimator_\n",
        "\n",
        "print(\"Best Parameters:\", best_parameters)\n",
        "print(\"Best Accuracy:\", best_accuracy)\n",
        "\n",
        "yp = best_model.predict(X_train)\n",
        "training_accuracy = accuracy_score(y_train, yp)\n",
        "\n",
        "yp = best_model.predict(X_val)\n",
        "validation_accuracy = accuracy_score(y_val, yp)\n",
        "\n",
        "print(\"Accuracy:\",training_accuracy, validation_accuracy)\n",
        "\n"
      ]
    }
  ],
  "metadata": {
    "colab": {
      "provenance": []
    },
    "kernelspec": {
      "display_name": "Python 3",
      "language": "python",
      "name": "python3"
    },
    "language_info": {
      "codemirror_mode": {
        "name": "ipython",
        "version": 3
      },
      "file_extension": ".py",
      "mimetype": "text/x-python",
      "name": "python",
      "nbconvert_exporter": "python",
      "pygments_lexer": "ipython3",
      "version": "3.10.10"
    }
  },
  "nbformat": 4,
  "nbformat_minor": 0
}
