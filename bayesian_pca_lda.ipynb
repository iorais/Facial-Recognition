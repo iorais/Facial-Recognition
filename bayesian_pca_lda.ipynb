from sklearn.naive_bayes import GaussianNB
from sklearn.metrics import accuracy_score
import numpy as np
import pickle
import matplotlib.pyplot as plt
import seaborn as sns
from sklearn.metrics import confusion_matrix

data_dir = 'dimension_reduced_data'

use_pca = True
use_lda = True

if use_pca and not use_lda:
    print('using pca model')

    X_train = np.load('dimension_reduced_data/X_train_pca.npy')
    X_val = np.load('dimension_reduced_data/X_val_pca.npy')
    # with open('dimension_reduced_data/pca_model.pkl', 'rb') as f:
    #     trained_model = pickle.load(f)

if use_lda and not use_pca:
    print('using lda model')

    X_train = np.load('dimension_reduced_data/X_train_lda.npy')
    X_val = np.load('dimension_reduced_data/X_val_lda.npy')
    # with open('dimension_reduced_data/lda_model.pkl', 'rb') as f:
    #     trained_model = pickle.load(f)

if use_pca and use_lda:
    print('using pca and lda model')

    X_train = np.load('dimension_reduced_data/X_train_pca_lda.npy')
    X_val = np.load('dimension_reduced_data/X_val_pca_lda.npy')
    # with open('dimension_reduced_data/pca_lda_model.pkl', 'rb') as f:
    #     trained_model = pickle.load(f)

y_train = np.load('dimension_reduced_data/y_train.npy')
y_val = np.load('dimension_reduced_data/y_val.npy')

print(X_train.shape)

# Gaussian Naive Bayes
nb = GaussianNB()

nb.fit(X_train, y_train)

yp_train = nb.predict(X_train)
training_accuracy = accuracy_score(y_train, yp_train)

yp_val = nb.predict(X_val)

cm = confusion_matrix(y_val, yp_val)

# Plot the confusion matrix
plt.figure(figsize=(10, 8))
sns.heatmap(cm, annot=True, fmt="d")
plt.title("Confusion Matrix")
plt.ylabel("True Label")
plt.xlabel("Predicted Label")
plt.show()

validation_accuracy = accuracy_score(y_val, yp_val)

print("Accuracy:", training_accuracy, validation_accuracy)
