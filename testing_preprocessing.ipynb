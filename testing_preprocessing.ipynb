{
 "cells": [
  {
   "cell_type": "markdown",
   "metadata": {},
   "source": [
    "# Preprocessing\n",
    "This notebook manages the data pipeline and performs feature extraction for testing."
   ]
  },
  {
   "cell_type": "markdown",
   "metadata": {},
   "source": [
    "## Install Dependencies"
   ]
  },
  {
   "cell_type": "code",
   "execution_count": null,
   "metadata": {},
   "outputs": [],
   "source": [
    "%pip install ..."
   ]
  },
  {
   "cell_type": "markdown",
   "metadata": {},
   "source": [
    "## Imports"
   ]
  },
  {
   "cell_type": "code",
   "execution_count": 5,
   "metadata": {},
   "outputs": [],
   "source": [
    "import os\n",
    "import cv2\n",
    "import torch.utils.data\n",
    "\n",
    "import numpy as np\n",
    "import matplotlib.image as mpimg\n",
    "\n",
    "from tqdm import tqdm\n",
    "from autocrop import Cropper\n",
    "from torchvision import transforms\n",
    "from PIL import Image, ImageEnhance\n",
    "from collections import defaultdict"
   ]
  },
  {
   "cell_type": "markdown",
   "metadata": {},
   "source": [
    "## Root Path"
   ]
  },
  {
   "cell_type": "code",
   "execution_count": 6,
   "metadata": {},
   "outputs": [],
   "source": [
    "root_path = ''"
   ]
  },
  {
   "cell_type": "markdown",
   "metadata": {},
   "source": [
    "# Data Pipeline\n",
    "Preparing the data for feature extraction"
   ]
  },
  {
   "cell_type": "markdown",
   "metadata": {},
   "source": [
    "## Sort Data\n",
    "The raw image files will be renamed, labeled, and saved in sorted_test_data/"
   ]
  },
  {
   "cell_type": "code",
   "execution_count": 7,
   "metadata": {},
   "outputs": [
    {
     "name": "stdout",
     "output_type": "stream",
     "text": [
      "finished sorting data\n"
     ]
    }
   ],
   "source": [
    "test_path = os.path.join(root_path,'training_validation_set_0226')\n",
    "test_dst = os.path.join(root_path, 'sorted_test_data')\n",
    "\n",
    "src = test_path\n",
    "dst = test_dst\n",
    "\n",
    "def is_image_file(filename: str) -> bool:\n",
    "    extensions = ['.png', '.jpg', '.jpeg', '.PNG', '.JPG', '.JPEG']\n",
    "    return any(filename.endswith(extension) for extension in extensions)\n",
    "\n",
    "# mapping from filename to label\n",
    "filename_to_label = {}\n",
    "\n",
    "# mapping from filename to PIL Image object\n",
    "filename_to_img = {}\n",
    "\n",
    "# mapping from label to list of image files\n",
    "label_to_filenames = defaultdict(list)\n",
    "\n",
    "with open(src + '/file_mapping.txt') as file_mapping:\n",
    "    for line in file_mapping:\n",
    "        filename, label = line.split()\n",
    "        if is_image_file(filename):\n",
    "            filename_to_label[filename] = label\n",
    "            filename_to_img[filename] = Image.open(f'{src}/{filename}')\n",
    "            label_to_filenames[label].append(filename)\n",
    "\n",
    "for label in label_to_filenames.keys():\n",
    "    label_to_filenames[label].sort()\n",
    "\n",
    "# list of labels\n",
    "labels = list(label_to_filenames.keys())\n",
    "\n",
    "def save_image(filename: str):\n",
    "    # create parent directory if needed\n",
    "    parent = os.path.join(root_path, dst)\n",
    "    os.makedirs(parent, exist_ok=True)\n",
    "\n",
    "    img = filename_to_img[filename]\n",
    "\n",
    "    label = filename_to_label[filename]\n",
    "    date = filename.split('_')[0]\n",
    "    new_filename = '_'.join([label, date + '.jpeg'])\n",
    "\n",
    "    img.save(f'{parent}/{new_filename}')\n",
    "\n",
    "# main function\n",
    "def sort_data():\n",
    "    exclude_labels = ['wufangyuan']\n",
    "    exclude = defaultdict(lambda : False)\n",
    "    for label in exclude_labels:\n",
    "        exclude[label] = True\n",
    "\n",
    "    for label in label_to_filenames.keys():\n",
    "        if exclude[label]:\n",
    "            print(f'excluding {label}')\n",
    "            continue\n",
    "        \n",
    "        for filename in label_to_filenames[label]:\n",
    "            save_image(filename)\n",
    "\n",
    "    print('finished sorting data')\n",
    "\n",
    "sort_data()"
   ]
  },
  {
   "cell_type": "markdown",
   "metadata": {},
   "source": [
    "## Crop Data\n",
    "The sorted images will be cropped and saved in testing/ <br>\n",
    "Data will be put into subdirectories organized by labels"
   ]
  },
  {
   "cell_type": "code",
   "execution_count": null,
   "metadata": {},
   "outputs": [],
   "source": [
    "test_path = os.path.join(root_path, 'sorted_test_data')\n",
    "test_dst = os.path.join(root_path, 'testing')\n",
    "rej_path = os.path.join(root_path, 'rejected')\n",
    "\n",
    "src = test_path\n",
    "dst = test_dst\n",
    "\n",
    "rej = os.path.join(rej_path, dst)\n",
    "\n",
    "os.makedirs(dst, exist_ok=True)\n",
    "os.makedirs(rej, exist_ok=True)\n",
    "\n",
    "# autocropper\n",
    "cropper = Cropper(224, 224)\n",
    "\n",
    "for filename in tqdm(os.listdir(src)):\n",
    "    if filename.lower().endswith(('.png', '.jpg', '.jpeg', '.bmp', '.gif')):\n",
    "        # creates subdirectory by labels\n",
    "        label = filename.split('_')[0]\n",
    "        subdir = os.path.join(dst, label)\n",
    "        os.makedirs(subdir, exist_ok=True)\n",
    "\n",
    "        # crops image\n",
    "        cropped_array = cropper.crop(f'{src}/{filename}')\n",
    "        print(f'attempting to save {src}/{filename}')\n",
    "\n",
    "        if type(cropped_array) != type(None):\n",
    "            # saves successfully cropped image in subdir\n",
    "            img = Image.fromarray(cropped_array)\n",
    "            img.save(f'{subdir}/{filename}')\n",
    "            print(f'saved to {subdir}/{filename}')\n",
    "        else:\n",
    "            rejsubdir = os.path.join(rej, label)\n",
    "            os.makedirs(rejsubdir, exist_ok=True)\n",
    "\n",
    "            # saves rejected image in rejected/testing/[label]/\n",
    "            img = Image.open(f'{src}/{filename}')\n",
    "            img.save(f'{rejsubdir}/{filename}')\n",
    "            print(f'rejected to {rejsubdir}/{filename}')"
   ]
  },
  {
   "cell_type": "markdown",
   "metadata": {},
   "source": [
    "## Rejected Data\n",
    "Handles rejected data that autocropper could not recognize <br>\n",
    "The data will be saved to testing/"
   ]
  },
  {
   "cell_type": "code",
   "execution_count": null,
   "metadata": {},
   "outputs": [],
   "source": []
  },
  {
   "cell_type": "markdown",
   "metadata": {},
   "source": [
    "# Feature Extraction\n",
    "Extracts important features from data"
   ]
  },
  {
   "cell_type": "markdown",
   "metadata": {},
   "source": [
    "## PCA\n",
    "Dimension reduction on data for full rank matrix"
   ]
  },
  {
   "cell_type": "code",
   "execution_count": null,
   "metadata": {},
   "outputs": [],
   "source": []
  },
  {
   "cell_type": "markdown",
   "metadata": {},
   "source": [
    "## LDA\n",
    "Supervised dimension reduction on data that will be used for testing <br>\n",
    "The numpy arrays will be saved in\n",
    "- [dimension_reduced_data/X_test_pca_lda.npy](dimension_reduced_data/X_test_pca_lda.npy)\n",
    "- [dimension_reduced_data/y_test_pca_lda.npy](dimension_reduced_data/y_test_pca_lda.npy)\n",
    "    - for validation"
   ]
  },
  {
   "cell_type": "code",
   "execution_count": null,
   "metadata": {},
   "outputs": [],
   "source": []
  }
 ],
 "metadata": {
  "kernelspec": {
   "display_name": "Python 3",
   "language": "python",
   "name": "python3"
  },
  "language_info": {
   "codemirror_mode": {
    "name": "ipython",
    "version": 3
   },
   "file_extension": ".py",
   "mimetype": "text/x-python",
   "name": "python",
   "nbconvert_exporter": "python",
   "pygments_lexer": "ipython3",
   "version": "3.10.10"
  }
 },
 "nbformat": 4,
 "nbformat_minor": 2
}
