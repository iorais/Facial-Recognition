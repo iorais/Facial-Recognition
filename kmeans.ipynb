{
 "cells": [
  {
   "cell_type": "code",
   "execution_count": 6,
   "metadata": {},
   "outputs": [],
   "source": [
    "import os\n",
    "import configparser\n",
    "\n",
    "config = configparser.ConfigParser()\n",
    "\n",
    "# path to 'config.ini' file in Google\n",
    "path = 'drive/Shareddrives/CSEN240_Group11/'\n",
    "\n",
    "if not os.path.isdir(path):\n",
    "# for local machine\n",
    "    path = 'configure.ini'\n",
    "else:\n",
    "# for Google CoLab\n",
    "    path += 'configure.ini'\n",
    "\n",
    "config.read(path)\n",
    "\n",
    "root_path = config['PATHS']['root']"
   ]
  },
  {
   "cell_type": "code",
   "execution_count": 49,
   "metadata": {},
   "outputs": [
    {
     "name": "stdout",
     "output_type": "stream",
     "text": [
      "max height 702 max width 525\n",
      "min height 52 min width 52\n",
      "avg height 287 avg width 220\n"
     ]
    }
   ],
   "source": [
    "import numpy as np\n",
    "from PIL import Image\n",
    "\n",
    "src = os.path.join(root_path, 'augmented_data/Raw')\n",
    "\n",
    "heights = [] # heights of images\n",
    "widths = [] # widths of images\n",
    "vecs = [] # images as vectors\n",
    "filenames = [] # image filenames\n",
    "\n",
    "for filename in os.listdir(src):\n",
    "    if filename.lower().endswith(('.png', '.jpg', '.jpeg', '.bmp', '.gif')):\n",
    "        img = Image.open(f'{src}/{filename}')\n",
    "        img_vec = np.asarray(img)\n",
    "\n",
    "        h, w, _ = img_vec.shape\n",
    "\n",
    "        heights.append(h)\n",
    "        widths.append(w)\n",
    "        vecs.append(img_vec)\n",
    "        filenames.append(filename)\n",
    "\n",
    "n = len(heights)\n",
    "print('max height', max(heights), 'max width', max(widths))\n",
    "print('min height', min(heights), 'min width', min(widths))\n",
    "print('avg height', sum(heights)//n, 'avg width', sum(widths)//n)\n",
    "\n",
    "X = np.array([[h, w] for h, w in zip(heights, widths)])"
   ]
  },
  {
   "cell_type": "code",
   "execution_count": 50,
   "metadata": {},
   "outputs": [
    {
     "data": {
      "image/png": "[encoded data removed]",
      "text/plain": [
       "<Figure size 640x480 with 1 Axes>"
      ]
     },
     "metadata": {},
     "output_type": "display_data"
    }
   ],
   "source": [
    "from sklearn.cluster import KMeans\n",
    "import matplotlib.pyplot as plt\n",
    "\n",
    "inertia_values = []\n",
    "k_values = range(1, 11)  # trying k from 1 to 10\n",
    "for k in k_values:\n",
    "    kmeans = KMeans(n_clusters=k, random_state=42)\n",
    "    kmeans.fit(X)\n",
    "    inertia_values.append(kmeans.inertia_)\n",
    "\n",
    "# Plot the elbow curve\n",
    "plt.plot(k_values, inertia_values, marker='o')\n",
    "plt.title('Elbow Method for Optimal k')\n",
    "plt.xlabel('Number of clusters (k)')\n",
    "plt.ylabel('Inertia')\n",
    "plt.show()"
   ]
  },
  {
   "cell_type": "code",
   "execution_count": 54,
   "metadata": {},
   "outputs": [
    {
     "name": "stdout",
     "output_type": "stream",
     "text": [
      "Cluster 1: 2009 points\n",
      "Cluster 2: 984 points\n",
      "Cluster 3: 1558 points\n",
      "Cluster 4: 2706 points\n",
      "Cluster 5: 3977 points\n"
     ]
    }
   ],
   "source": [
    "k = 5\n",
    "\n",
    "kmeans = KMeans(n_clusters=k, random_state=42)\n",
    "\n",
    "# Fit KMeans clustering model to the data\n",
    "kmeans.fit(X)\n",
    "\n",
    "# Get cluster labels for each data point\n",
    "cluster_labels = kmeans.labels_\n",
    "\n",
    "# Now you have cluster labels for each data point. \n",
    "# You can use these labels to sort your data into respective clusters.\n",
    "\n",
    "# Example: Sorting data points into clusters\n",
    "clusters = {}\n",
    "for i in range(k):\n",
    "    clusters[i] = []\n",
    "\n",
    "for i, label in enumerate(cluster_labels):\n",
    "    h, w = X[i]\n",
    "    if vecs[i].shape != (h, w, 3):\n",
    "        print('error')\n",
    "        quit()\n",
    "    clusters[label].append((X[i], filenames[i]))\n",
    "\n",
    "# Print the number of points in each cluster\n",
    "for cluster, points in clusters.items():\n",
    "    print(f\"Cluster {cluster+1}: {len(points)} points\")"
   ]
  },
  {
   "cell_type": "code",
   "execution_count": 55,
   "metadata": {},
   "outputs": [
    {
     "name": "stdout",
     "output_type": "stream",
     "text": [
      "cluster label = 0\n",
      "max height 183 max width 139\n",
      "min height 52 min width 52\n",
      "avg height 136 avg width 105\n",
      "\n",
      "cluster label = 1\n",
      "max height 702 max width 525\n",
      "min height 484 min width 375\n",
      "avg height 549 avg width 419\n",
      "\n",
      "cluster label = 2\n",
      "max height 470 max width 380\n",
      "min height 350 min width 278\n",
      "avg height 417 avg width 321\n",
      "\n",
      "cluster label = 3\n",
      "max height 364 max width 297\n",
      "min height 269 min width 207\n",
      "avg height 315 avg width 243\n",
      "\n",
      "cluster label = 4\n",
      "max height 274 max width 217\n",
      "min height 179 min width 141\n",
      "avg height 228 avg width 174\n",
      "\n"
     ]
    }
   ],
   "source": [
    "for label in clusters.keys():\n",
    "    heights = []\n",
    "    widths = []\n",
    "    for i, (dim, filename) in enumerate(clusters[label]):\n",
    "        h, w = dim\n",
    "\n",
    "        heights.append(h)\n",
    "        widths.append(w)\n",
    "\n",
    "    n = len(heights)\n",
    "    print(f'cluster label = {label}')\n",
    "    print('max height', max(heights), 'max width', max(widths))\n",
    "    print('min height', min(heights), 'min width', min(widths))\n",
    "    print('avg height', sum(heights)//n, 'avg width', sum(widths)//n)\n",
    "    print('')"
   ]
  },
  {
   "cell_type": "code",
   "execution_count": 81,
   "metadata": {},
   "outputs": [],
   "source": [
    "from autocrop import Cropper\n",
    "import matplotlib.image as mpimg\n",
    "from collections import defaultdict\n",
    "\n",
    "def display(arr):\n",
    "    '''\n",
    "    shows a subplot for each image file    \n",
    "    '''\n",
    "    \n",
    "    fig, axs = plt.subplots(1, 2)\n",
    "    for i, img_array in enumerate(arr):\n",
    "        title = 'Original' if i == 0 else 'Cropped'\n",
    "\n",
    "        fig.suptitle(title)\n",
    "        axs[i].imshow(img_array)\n",
    "        axs[i].tick_params(left = False, right = False , labelleft = False , \n",
    "                    labelbottom = False, bottom = False)\n",
    "        \n",
    "    plt.show()\n",
    "\n",
    "\n",
    "label = 0\n",
    "\n",
    "cropper = Cropper(width=500, height=500)\n",
    "\n",
    "reject_count = defaultdict(int)\n",
    "\n",
    "for filename in os.listdir(src):\n",
    "    if filename.lower().endswith(('.png', '.jpg', '.jpeg', '.bmp', '.gif')):\n",
    "        img = Image.open(f'{src}/{filename}')\n",
    "        img_array = np.array(img)\n",
    "        cropped_array = cropper.crop(f'{src}/{filename}')\n",
    "\n",
    "        label = filename.split('_')[0]\n",
    "        arr = [img_array]\n",
    "        if type(cropped_array) != type(None):\n",
    "            arr.append(cropped_array)\n",
    "            reject_count[label] += 1\n",
    "        else:\n",
    "            reject_count[label] += 0\n",
    "        \n",
    "        reject_count[label + '_total'] += 1"
   ]
  },
  {
   "cell_type": "code",
   "execution_count": 82,
   "metadata": {},
   "outputs": [
    {
     "name": "stdout",
     "output_type": "stream",
     "text": [
      "zotaharsh 318\n",
      "zotaharsh_total 369\n",
      "zhangyuanzhen 328\n",
      "zhangyuanzhen_total 328\n",
      "zuluagagonzalezisabel 369\n",
      "zuluagagonzalezisabel_total 369\n",
      "mendonakshay 369\n",
      "mendonakshay_total 369\n",
      "oraisisaac 369\n",
      "oraisisaac_total 369\n",
      "yashasvi 328\n",
      "yashasvi_total 328\n",
      "lishumeng 369\n",
      "lishumeng_total 369\n",
      "pereiranerissagodfrey 369\n",
      "pereiranerissagodfrey_total 369\n",
      "negiparth 369\n",
      "negiparth_total 369\n",
      "lozanoroberto 265\n",
      "lozanoroberto_total 328\n",
      "shahmanali 362\n",
      "shahmanali_total 369\n",
      "chientingwei 218\n",
      "chientingwei_total 369\n",
      "liuhongji 287\n",
      "liuhongji_total 287\n",
      "huangjiaoyan 270\n",
      "huangjiaoyan_total 369\n",
      "gowdarachandrashekarappasrivarsha 369\n",
      "gowdarachandrashekarappasrivarsha_total 369\n",
      "chenziang 253\n",
      "chenziang_total 328\n",
      "selinayu 369\n",
      "selinayu_total 369\n",
      "somaniachal 369\n",
      "somaniachal_total 369\n",
      "amarisian 369\n",
      "amarisian_total 369\n",
      "sivarajusairevanth 205\n",
      "sivarajusairevanth_total 205\n",
      "wukaiyue 362\n",
      "wukaiyue_total 369\n",
      "ravijayanthidhanasekar 363\n",
      "ravijayanthidhanasekar_total 369\n",
      "perambuduruvishnu 369\n",
      "perambuduruvishnu_total 369\n",
      "vanderlindenilona 328\n",
      "vanderlindenilona_total 328\n",
      "vennavellirajashekarreddy 127\n",
      "vennavellirajashekarreddy_total 246\n",
      "banmingkai 369\n",
      "banmingkai_total 369\n",
      "zhouchuandi 287\n",
      "zhouchuandi_total 287\n",
      "sampagaonrahul 369\n",
      "sampagaonrahul_total 369\n",
      "manglaniroshanlakhi 284\n",
      "manglaniroshanlakhi_total 287\n",
      "wufangyuan 211\n",
      "wufangyuan_total 246\n",
      "upadhyevaishnavi 328\n",
      "upadhyevaishnavi_total 328\n",
      "kodipunzulanandini 369\n",
      "kodipunzulanandini_total 369\n",
      "virvadianisargjyotin 311\n",
      "virvadianisargjyotin_total 328\n"
     ]
    }
   ],
   "source": [
    "for label, count in reject_count.items():\n",
    "    print(label, count)"
   ]
  },
  {
   "cell_type": "code",
   "execution_count": 1,
   "metadata": {},
   "outputs": [
    {
     "name": "stdout",
     "output_type": "stream",
     "text": [
      "33\n"
     ]
    }
   ],
   "source": [
    "import sort_data\n",
    "\n",
    "filename_to_label, filename_to_img, label_to_filenames = sort_data.get_maps()\n",
    "\n",
    "print(len(label_to_filenames.keys()))"
   ]
  },
  {
   "cell_type": "code",
   "execution_count": 3,
   "metadata": {},
   "outputs": [],
   "source": [
    "import os\n",
    "import configparser\n",
    "from PIL import Image\n",
    "\n",
    "import numpy as np\n",
    "\n",
    "import torch.nn as nn\n",
    "import torch.optim as optim\n",
    "import torch.utils.data\n",
    "import torchvision.datasets as datasets\n",
    "from torchvision import transforms\n",
    "\n",
    "\n",
    "config = configparser.ConfigParser()\n",
    "\n",
    "# path to 'config.ini' file in Google\n",
    "path = 'drive/Shareddrives/CSEN240_Group11/'\n",
    "\n",
    "if not os.path.isdir(path):\n",
    "# for local machine\n",
    "    path = 'configure.ini'\n",
    "else:\n",
    "# for Google CoLab\n",
    "    path += 'configure.ini'\n",
    "\n",
    "config.read(path)\n",
    "\n",
    "root_path = config['PATHS']['root']\n",
    "train_path = root_path + config['PATHS']['train']\n",
    "\n",
    "# load dataset\n",
    "data_dir = os.path.join(root_path, 'torchvision_dataset')\n",
    "dataset = datasets.ImageFolder(data_dir, transform=lambda img: np.array(img).astype(float))\n",
    "\n",
    "def get_mean_std(loader):\n",
    "    # Compute the mean and standard deviation of all pixels in the dataset\n",
    "    num_pixels = 0\n",
    "    mean = 0.0\n",
    "    std = 0.0\n",
    "    images: torch.Tensor\n",
    "    for images, _ in loader:\n",
    "        batch_size, num_channels, height, width = images.shape\n",
    "        num_pixels += batch_size * height * width\n",
    "        mean += images.mean(axis=(0, 2, 3)).sum()\n",
    "        std += images.std(axis=(0, 2, 3)).sum()\n",
    "\n",
    "    mean /= num_pixels\n",
    "    std /= num_pixels\n",
    "\n",
    "    return mean, std\n",
    "\n",
    "data_transforms = transforms.Compose([\n",
    "    transforms.Resize((224, 224)),\n",
    "    transforms.ToTensor(),\n",
    "])\n",
    "\n",
    "batch_size = 32\n",
    "loader = torch.utils.data.DataLoader(dataset, batch_size=batch_size, shuffle=True)\n",
    "mean, std = get_mean_std(loader)\n",
    "\n",
    "data_transforms = transforms.Compose([\n",
    "    transforms.Resize((224, 224)),\n",
    "    transforms.ToTensor(),\n",
    "    transforms.Normalize(mean=mean, std=std)\n",
    "])\n",
    "\n",
    "dataset = datasets.ImageFolder(data_dir, transform=data_transforms)"
   ]
  },
  {
   "cell_type": "code",
   "execution_count": 4,
   "metadata": {},
   "outputs": [],
   "source": [
    "model = nn.Sequential(\n",
    "    nn.Conv2d(3, 32, kernel_size=3, stride=1, padding=1),\n",
    "    nn.ReLU(),\n",
    "    nn.MaxPool2d(kernel_size=2, stride=2),\n",
    "    nn.Conv2d(32, 64, kernel_size=3, stride=1, padding=1),\n",
    "    nn.ReLU(),\n",
    "    nn.MaxPool2d(kernel_size=2, stride=2),\n",
    "    nn.Flatten(),\n",
    "    nn.Linear(4 * 500 * 500, 128),\n",
    "    nn.ReLU(),\n",
    "    nn.Linear(128, 33)\n",
    ")"
   ]
  },
  {
   "cell_type": "code",
   "execution_count": 7,
   "metadata": {},
   "outputs": [
    {
     "name": "stderr",
     "output_type": "stream",
     "text": [
      "100%|██████████| 332/332 [2:23:28<00:00, 25.93s/it]   \n"
     ]
    },
    {
     "name": "stdout",
     "output_type": "stream",
     "text": [
      "Epoch 1 loss: 3.4917\n"
     ]
    },
    {
     "name": "stderr",
     "output_type": "stream",
     "text": [
      "100%|██████████| 332/332 [2:35:44<00:00, 28.15s/it]   \n"
     ]
    },
    {
     "name": "stdout",
     "output_type": "stream",
     "text": [
      "Epoch 2 loss: 3.4893\n"
     ]
    },
    {
     "name": "stderr",
     "output_type": "stream",
     "text": [
      "100%|██████████| 332/332 [3:06:43<00:00, 33.75s/it]   \n"
     ]
    },
    {
     "name": "stdout",
     "output_type": "stream",
     "text": [
      "Epoch 3 loss: 3.4872\n"
     ]
    },
    {
     "name": "stderr",
     "output_type": "stream",
     "text": [
      "100%|██████████| 332/332 [2:48:57<00:00, 30.54s/it]   \n"
     ]
    },
    {
     "name": "stdout",
     "output_type": "stream",
     "text": [
      "Epoch 4 loss: 3.4854\n"
     ]
    },
    {
     "name": "stderr",
     "output_type": "stream",
     "text": [
      "100%|██████████| 332/332 [2:44:08<00:00, 29.66s/it]    \n"
     ]
    },
    {
     "name": "stdout",
     "output_type": "stream",
     "text": [
      "Epoch 5 loss: 3.4840\n"
     ]
    },
    {
     "name": "stderr",
     "output_type": "stream",
     "text": [
      "100%|██████████| 332/332 [3:31:04<00:00, 38.15s/it]    \n"
     ]
    },
    {
     "name": "stdout",
     "output_type": "stream",
     "text": [
      "Epoch 6 loss: 3.4828\n"
     ]
    },
    {
     "name": "stderr",
     "output_type": "stream",
     "text": [
      "100%|██████████| 332/332 [2:01:50<00:00, 22.02s/it]   \n"
     ]
    },
    {
     "name": "stdout",
     "output_type": "stream",
     "text": [
      "Epoch 7 loss: 3.4818\n"
     ]
    },
    {
     "name": "stderr",
     "output_type": "stream",
     "text": [
      "100%|██████████| 332/332 [3:13:39<00:00, 35.00s/it]    \n"
     ]
    },
    {
     "name": "stdout",
     "output_type": "stream",
     "text": [
      "Epoch 8 loss: 3.4810\n"
     ]
    },
    {
     "name": "stderr",
     "output_type": "stream",
     "text": [
      "100%|██████████| 332/332 [2:53:40<00:00, 31.39s/it]    \n"
     ]
    },
    {
     "name": "stdout",
     "output_type": "stream",
     "text": [
      "Epoch 9 loss: 3.4803\n"
     ]
    },
    {
     "name": "stderr",
     "output_type": "stream",
     "text": [
      "100%|██████████| 332/332 [2:29:56<00:00, 27.10s/it]   \n"
     ]
    },
    {
     "name": "stdout",
     "output_type": "stream",
     "text": [
      "Epoch 10 loss: 3.4796\n"
     ]
    },
    {
     "ename": "RuntimeError",
     "evalue": "File nn_classify.pth cannot be opened.",
     "output_type": "error",
     "traceback": [
      "\u001b[0;31m---------------------------------------------------------------------------\u001b[0m",
      "\u001b[0;31mRuntimeError\u001b[0m                              Traceback (most recent call last)",
      "Cell \u001b[0;32mIn[7], line 28\u001b[0m\n\u001b[1;32m     26\u001b[0m model_dst \u001b[38;5;241m=\u001b[39m os\u001b[38;5;241m.\u001b[39mpath\u001b[38;5;241m.\u001b[39mjoin(root_path, \u001b[38;5;124m'\u001b[39m\u001b[38;5;124mnn_classify.pth\u001b[39m\u001b[38;5;124m'\u001b[39m)\n\u001b[1;32m     27\u001b[0m os\u001b[38;5;241m.\u001b[39mmakedirs(model_dst, exist_ok\u001b[38;5;241m=\u001b[39m\u001b[38;5;28;01mTrue\u001b[39;00m)\n\u001b[0;32m---> 28\u001b[0m \u001b[43mtorch\u001b[49m\u001b[38;5;241;43m.\u001b[39;49m\u001b[43msave\u001b[49m\u001b[43m(\u001b[49m\u001b[43mmodel\u001b[49m\u001b[38;5;241;43m.\u001b[39;49m\u001b[43mstate_dict\u001b[49m\u001b[43m(\u001b[49m\u001b[43m)\u001b[49m\u001b[43m,\u001b[49m\u001b[43m \u001b[49m\u001b[43mmodel_dst\u001b[49m\u001b[43m)\u001b[49m\n\u001b[1;32m     29\u001b[0m \u001b[38;5;28mprint\u001b[39m(\u001b[38;5;124m'\u001b[39m\u001b[38;5;124mmodel saved successfully\u001b[39m\u001b[38;5;124m'\u001b[39m)\n",
      "File \u001b[0;32m/Library/Frameworks/Python.framework/Versions/3.10/lib/python3.10/site-packages/torch/serialization.py:440\u001b[0m, in \u001b[0;36msave\u001b[0;34m(obj, f, pickle_module, pickle_protocol, _use_new_zipfile_serialization)\u001b[0m\n\u001b[1;32m    437\u001b[0m _check_save_filelike(f)\n\u001b[1;32m    439\u001b[0m \u001b[38;5;28;01mif\u001b[39;00m _use_new_zipfile_serialization:\n\u001b[0;32m--> 440\u001b[0m     \u001b[38;5;28;01mwith\u001b[39;00m \u001b[43m_open_zipfile_writer\u001b[49m\u001b[43m(\u001b[49m\u001b[43mf\u001b[49m\u001b[43m)\u001b[49m \u001b[38;5;28;01mas\u001b[39;00m opened_zipfile:\n\u001b[1;32m    441\u001b[0m         _save(obj, opened_zipfile, pickle_module, pickle_protocol)\n\u001b[1;32m    442\u001b[0m         \u001b[38;5;28;01mreturn\u001b[39;00m\n",
      "File \u001b[0;32m/Library/Frameworks/Python.framework/Versions/3.10/lib/python3.10/site-packages/torch/serialization.py:315\u001b[0m, in \u001b[0;36m_open_zipfile_writer\u001b[0;34m(name_or_buffer)\u001b[0m\n\u001b[1;32m    313\u001b[0m \u001b[38;5;28;01melse\u001b[39;00m:\n\u001b[1;32m    314\u001b[0m     container \u001b[38;5;241m=\u001b[39m _open_zipfile_writer_buffer\n\u001b[0;32m--> 315\u001b[0m \u001b[38;5;28;01mreturn\u001b[39;00m \u001b[43mcontainer\u001b[49m\u001b[43m(\u001b[49m\u001b[43mname_or_buffer\u001b[49m\u001b[43m)\u001b[49m\n",
      "File \u001b[0;32m/Library/Frameworks/Python.framework/Versions/3.10/lib/python3.10/site-packages/torch/serialization.py:288\u001b[0m, in \u001b[0;36m_open_zipfile_writer_file.__init__\u001b[0;34m(self, name)\u001b[0m\n\u001b[1;32m    287\u001b[0m \u001b[38;5;28;01mdef\u001b[39;00m \u001b[38;5;21m__init__\u001b[39m(\u001b[38;5;28mself\u001b[39m, name) \u001b[38;5;241m-\u001b[39m\u001b[38;5;241m>\u001b[39m \u001b[38;5;28;01mNone\u001b[39;00m:\n\u001b[0;32m--> 288\u001b[0m     \u001b[38;5;28msuper\u001b[39m()\u001b[38;5;241m.\u001b[39m\u001b[38;5;21m__init__\u001b[39m(\u001b[43mtorch\u001b[49m\u001b[38;5;241;43m.\u001b[39;49m\u001b[43m_C\u001b[49m\u001b[38;5;241;43m.\u001b[39;49m\u001b[43mPyTorchFileWriter\u001b[49m\u001b[43m(\u001b[49m\u001b[38;5;28;43mstr\u001b[39;49m\u001b[43m(\u001b[49m\u001b[43mname\u001b[49m\u001b[43m)\u001b[49m\u001b[43m)\u001b[49m)\n",
      "\u001b[0;31mRuntimeError\u001b[0m: File nn_classify.pth cannot be opened."
     ]
    }
   ],
   "source": [
    "from tqdm import tqdm\n",
    "\n",
    "model = model.double()\n",
    "\n",
    "criterion = nn.CrossEntropyLoss()\n",
    "optimizer = optim.SGD(model.parameters(), lr=0.001, momentum=0.9)\n",
    "\n",
    "epochs = 10\n",
    "for epoch in range(epochs):\n",
    "    running_loss = 0.0\n",
    "    \n",
    "    inputs: torch.Tensor\n",
    "    for i, (inputs, labels) in enumerate(tqdm(loader)):\n",
    "        inputs = inputs.permute(0, 3, 1, 2)\n",
    "\n",
    "        optimizer.zero_grad()\n",
    "        outputs = model(inputs)\n",
    "\n",
    "        loss = criterion(outputs, labels)\n",
    "        loss.backward()\n",
    "        optimizer.step()\n",
    "        running_loss += loss.item() * inputs.size(0)\n",
    "    epoch_loss = running_loss / len(dataset)\n",
    "    print(f\"Epoch {epoch+1} loss: {epoch_loss:.4f}\")"
   ]
  },
  {
   "cell_type": "code",
   "execution_count": 9,
   "metadata": {},
   "outputs": [
    {
     "name": "stdout",
     "output_type": "stream",
     "text": [
      "model saved successfully\n"
     ]
    }
   ],
   "source": [
    "model_dst = os.path.join(root_path, 'models')\n",
    "os.makedirs(model_dst, exist_ok=True)\n",
    "torch.save(model, f'{model_dst}/nn.pth')\n",
    "print('model saved successfully')"
   ]
  },
  {
   "cell_type": "code",
   "execution_count": 10,
   "metadata": {},
   "outputs": [
    {
     "data": {
      "text/plain": [
       "Sequential(\n",
       "  (0): Conv2d(3, 32, kernel_size=(3, 3), stride=(1, 1), padding=(1, 1))\n",
       "  (1): ReLU()\n",
       "  (2): MaxPool2d(kernel_size=2, stride=2, padding=0, dilation=1, ceil_mode=False)\n",
       "  (3): Conv2d(32, 64, kernel_size=(3, 3), stride=(1, 1), padding=(1, 1))\n",
       "  (4): ReLU()\n",
       "  (5): MaxPool2d(kernel_size=2, stride=2, padding=0, dilation=1, ceil_mode=False)\n",
       "  (6): Flatten(start_dim=1, end_dim=-1)\n",
       "  (7): Linear(in_features=1000000, out_features=128, bias=True)\n",
       "  (8): ReLU()\n",
       "  (9): Linear(in_features=128, out_features=33, bias=True)\n",
       ")"
      ]
     },
     "execution_count": 10,
     "metadata": {},
     "output_type": "execute_result"
    }
   ],
   "source": [
    "model.eval()"
   ]
  }
 ],
 "metadata": {
  "kernelspec": {
   "display_name": "Python 3",
   "language": "python",
   "name": "python3"
  },
  "language_info": {
   "codemirror_mode": {
    "name": "ipython",
    "version": 3
   },
   "file_extension": ".py",
   "mimetype": "text/x-python",
   "name": "python",
   "nbconvert_exporter": "python",
   "pygments_lexer": "ipython3",
   "version": "3.10.10"
  }
 },
 "nbformat": 4,
 "nbformat_minor": 2
}
