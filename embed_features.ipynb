{
 "cells": [
  {
   "cell_type": "code",
   "execution_count": 44,
   "metadata": {},
   "outputs": [],
   "source": [
    "import os\n",
    "import pickle\n",
    "import numpy as np\n",
    "from tqdm import tqdm\n",
    "from deepface import DeepFace\n",
    "\n",
    "def get_embedding_vec(img_path):\n",
    "    backends = [\n",
    "    'opencv', \n",
    "    'ssd', \n",
    "    'dlib', \n",
    "    'mtcnn', \n",
    "    'retinaface', \n",
    "    'mediapipe',\n",
    "    'yolov8',\n",
    "    'yunet',\n",
    "    'fastmtcnn',\n",
    "    ]\n",
    "\n",
    "    embedding_objs = DeepFace.represent(\n",
    "        img_path=img_path, \n",
    "        detector_backend = backends[2],\n",
    "        enforce_detection=False\n",
    "    )\n",
    "\n",
    "    if embedding_objs:\n",
    "        return np.array(embedding_objs[0]['embedding'])\n",
    "    else:\n",
    "        return None\n",
    "\n",
    "\n",
    "\n",
    "def get_embeddings(src):\n",
    "    emb_vecs = []\n",
    "    labels = []\n",
    "\n",
    "    class_names = set()\n",
    "    class_to_idx = {}\n",
    "\n",
    "    print('getting feature embeddings')\n",
    "\n",
    "    files = [file for file in sorted(os.listdir(src)) if file.endswith('.jpeg')]\n",
    "\n",
    "    i = 0\n",
    "    file: str\n",
    "    for file in tqdm(files):\n",
    "        class_name = file.split('_')[0]\n",
    "\n",
    "        emb_vec = get_embedding_vec(f'{src}/{file}')\n",
    "\n",
    "        if type(emb_vec) != type(None):\n",
    "            # embedding vector with corresponding label\n",
    "            emb_vecs.append(emb_vec)\n",
    "            labels.append(i)\n",
    "\n",
    "            # update class_names set\n",
    "            i += 1 if class_name not in class_names else 0\n",
    "            class_names.add(class_name)\n",
    "\n",
    "            # update dictionary\n",
    "            class_to_idx[class_name] = i\n",
    "\n",
    "    X = np.array(emb_vecs)\n",
    "    Y = np.array(labels)\n",
    "\n",
    "    print('X.shape =', X.shape)\n",
    "    print('Y.shape =', Y.shape)\n",
    "\n",
    "    class_names = np.array(class_names)\n",
    "\n",
    "    return X, Y, class_names, class_to_idx"
   ]
  },
  {
   "cell_type": "code",
   "execution_count": 41,
   "metadata": {},
   "outputs": [
    {
     "name": "stdout",
     "output_type": "stream",
     "text": [
      "getting feature embeddings\n"
     ]
    },
    {
     "name": "stderr",
     "output_type": "stream",
     "text": [
      "100%|██████████| 9916/9916 [48:27<00:00,  3.41it/s]  \n"
     ]
    },
    {
     "name": "stdout",
     "output_type": "stream",
     "text": [
      "X.shape = (9843, 4096)\n",
      "Y.shape = (9843,)\n"
     ]
    }
   ],
   "source": [
    "X, Y, class_names, class_to_idx = get_embeddings('augmented_data/Raw')"
   ]
  },
  {
   "cell_type": "code",
   "execution_count": 42,
   "metadata": {},
   "outputs": [],
   "source": [
    "dst = 'embedded_feature_data'\n",
    "\n",
    "os.makedirs(dst, exist_ok=True)\n",
    "\n",
    "desc = 'train'\n",
    "\n",
    "np.save(f'{dst}/X_{desc}_emb.npy', X)\n",
    "np.save(f'{dst}/Y_{desc}_emb.npy', Y)\n",
    "np.save(f'{dst}/class_names.npy', class_names)\n",
    "\n",
    "with open(os.path.join(dst, 'class_to_idx.pkl'), 'wb') as handle:\n",
    "    pickle.dump(class_to_idx, handle)"
   ]
  },
  {
   "cell_type": "code",
   "execution_count": 45,
   "metadata": {},
   "outputs": [
    {
     "name": "stdout",
     "output_type": "stream",
     "text": [
      "getting feature embeddings\n"
     ]
    },
    {
     "name": "stderr",
     "output_type": "stream",
     "text": [
      "100%|██████████| 154/154 [00:49<00:00,  3.12it/s]"
     ]
    },
    {
     "name": "stdout",
     "output_type": "stream",
     "text": [
      "X.shape = (153, 4096)\n",
      "Y.shape = (153,)\n"
     ]
    },
    {
     "name": "stderr",
     "output_type": "stream",
     "text": [
      "\n"
     ]
    }
   ],
   "source": [
    "X, Y, class_names, class_to_idx = get_embeddings('sorted_val_data/Raw')"
   ]
  },
  {
   "cell_type": "code",
   "execution_count": null,
   "metadata": {},
   "outputs": [],
   "source": [
    "dst = 'embedded_feature_data'\n",
    "\n",
    "os.makedirs(dst, exist_ok=True)\n",
    "\n",
    "desc = 'val'\n",
    "\n",
    "np.save(f'{dst}/X_{desc}_emb.npy', X)\n",
    "np.save(f'{dst}/Y_{desc}_emb.npy', Y)\n",
    "np.save(f'{dst}/class_names_val.npy', class_names)\n",
    "\n",
    "with open(os.path.join(dst, 'class_to_idx_val.pkl'), 'wb') as handle:\n",
    "    pickle.dump(class_to_idx, handle)"
   ]
  }
 ],
 "metadata": {
  "kernelspec": {
   "display_name": "Python 3",
   "language": "python",
   "name": "python3"
  },
  "language_info": {
   "codemirror_mode": {
    "name": "ipython",
    "version": 3
   },
   "file_extension": ".py",
   "mimetype": "text/x-python",
   "name": "python",
   "nbconvert_exporter": "python",
   "pygments_lexer": "ipython3",
   "version": "3.10.10"
  }
 },
 "nbformat": 4,
 "nbformat_minor": 2
}
