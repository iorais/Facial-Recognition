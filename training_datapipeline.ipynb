{
 "cells": [
  {
   "cell_type": "markdown",
   "metadata": {},
   "source": [
    "## Install Dependencies"
   ]
  },
  {
   "cell_type": "code",
   "execution_count": null,
   "metadata": {},
   "outputs": [],
   "source": [
    "%pip install ..."
   ]
  },
  {
   "cell_type": "markdown",
   "metadata": {},
   "source": [
    "## Imports"
   ]
  },
  {
   "cell_type": "code",
   "execution_count": 3,
   "metadata": {},
   "outputs": [],
   "source": [
    "import os\n",
    "import cv2\n",
    "import pickle\n",
    "\n",
    "import numpy as np\n",
    "import matplotlib.image as mpimg\n",
    "import torchvision.datasets as datasets\n",
    "\n",
    "from tqdm import tqdm\n",
    "from autocrop import Cropper\n",
    "from torchvision import transforms\n",
    "from collections import defaultdict\n",
    "from PIL import Image, ImageEnhance\n",
    "from sklearn.decomposition import PCA\n",
    "from sklearn.preprocessing import StandardScaler\n",
    "from sklearn.discriminant_analysis import LinearDiscriminantAnalysis"
   ]
  },
  {
   "cell_type": "markdown",
   "metadata": {},
   "source": [
    "## Paths"
   ]
  },
  {
   "cell_type": "code",
   "execution_count": 4,
   "metadata": {},
   "outputs": [],
   "source": [
    "root_path = ''\n",
    "train_path = os.path.join(root_path, 'train')\n",
    "\n",
    "os.makedirs(train_path, exist_ok=True)"
   ]
  },
  {
   "cell_type": "markdown",
   "metadata": {},
   "source": [
    "# Data Pipeline\n",
    "Preparing the data for feature extraction"
   ]
  },
  {
   "cell_type": "markdown",
   "metadata": {},
   "source": [
    "## Sort Data\n",
    "The raw image files will be renamed, labeled, and saved in sorted_data/"
   ]
  },
  {
   "cell_type": "code",
   "execution_count": 5,
   "metadata": {},
   "outputs": [
    {
     "name": "stdout",
     "output_type": "stream",
     "text": [
      "excluding wufangyuan\n",
      "finished sorting data\n"
     ]
    }
   ],
   "source": [
    "src = os.path.join(root_path,'trainingset0206')\n",
    "dst = os.path.join(train_path, 'sorted_data')\n",
    "\n",
    "def is_image_file(filename: str) -> bool:\n",
    "    extensions = ['.png', '.jpg', '.jpeg', '.PNG', '.JPG', '.JPEG']\n",
    "    return any(filename.endswith(extension) for extension in extensions)\n",
    "\n",
    "# mapping from filename to label\n",
    "filename_to_label = {}\n",
    "\n",
    "# mapping from filename to PIL Image object\n",
    "filename_to_img = {}\n",
    "\n",
    "# mapping from label to list of image files\n",
    "label_to_filenames = defaultdict(list)\n",
    "\n",
    "with open(src + '/file_mapping.txt') as file_mapping:\n",
    "    for line in file_mapping:\n",
    "        filename, label = line.split()\n",
    "        if is_image_file(filename):\n",
    "            filename_to_label[filename] = label\n",
    "            filename_to_img[filename] = Image.open(f'{src}/{filename}')\n",
    "            label_to_filenames[label].append(filename)\n",
    "\n",
    "for label in label_to_filenames.keys():\n",
    "    label_to_filenames[label].sort()\n",
    "\n",
    "# list of labels\n",
    "labels = list(label_to_filenames.keys())\n",
    "\n",
    "def save_image(filename: str):\n",
    "    # create directory if needed\n",
    "    os.makedirs(dst, exist_ok=True)\n",
    "\n",
    "    img = filename_to_img[filename]\n",
    "\n",
    "    label = filename_to_label[filename]\n",
    "    date = filename.split('_')[0]\n",
    "    new_filename = '_'.join([label, date + '.jpeg'])\n",
    "\n",
    "    img.save(f'{dst}/{new_filename}')\n",
    "\n",
    "# main function\n",
    "def sort_data():\n",
    "    exclude_labels = ['wufangyuan']\n",
    "    exclude = defaultdict(lambda : False)\n",
    "    for label in exclude_labels:\n",
    "        exclude[label] = True\n",
    "\n",
    "    for label in label_to_filenames.keys():\n",
    "        if exclude[label]:\n",
    "            print(f'excluding {label}')\n",
    "            continue\n",
    "        \n",
    "        for filename in label_to_filenames[label]:\n",
    "            save_image(filename)\n",
    "\n",
    "    print('finished sorting data')\n",
    "\n",
    "sort_data()"
   ]
  },
  {
   "cell_type": "markdown",
   "metadata": {},
   "source": [
    "## Augment Data\n",
    "The labled images will be augmented and saved in augmented_data/"
   ]
  },
  {
   "cell_type": "markdown",
   "metadata": {},
   "source": [
    "### Augment Image Color\n",
    "helper functions"
   ]
  },
  {
   "cell_type": "code",
   "execution_count": 6,
   "metadata": {},
   "outputs": [],
   "source": [
    "def adjust_image_properties_opencv(image_path, \n",
    "                                   output_folder, \n",
    "                                   saturation_factor, \n",
    "                                   brightness_factor, \n",
    "                                   contrast_factor, \n",
    "                                   hue_shift_value):\n",
    "    try:\n",
    "        image = cv2.imread(image_path)\n",
    "        base_name = os.path.basename(image_path)\n",
    "        file_name, extension_type = base_name.split(\".\")\n",
    "\n",
    "        hsv_image = cv2.cvtColor(image, cv2.COLOR_BGR2HSV)\n",
    "        h, s, v = cv2.split(hsv_image)\n",
    "\n",
    "        h = (h + hue_shift_value) % 180 \n",
    "        hsv_image = cv2.merge([h, s, v])\n",
    "\n",
    "        adjusted_image = cv2.cvtColor(hsv_image, cv2.COLOR_HSV2BGR)\n",
    "        adjusted_image_pil = Image.fromarray(cv2.cvtColor(adjusted_image, cv2.COLOR_BGR2RGB))\n",
    "\n",
    "        enhancer = ImageEnhance.Color(adjusted_image_pil)\n",
    "        adjusted_image_pil = enhancer.enhance(saturation_factor)\n",
    "\n",
    "        enhancer = ImageEnhance.Brightness(adjusted_image_pil)\n",
    "        adjusted_image_pil = enhancer.enhance(brightness_factor)\n",
    "\n",
    "        enhancer = ImageEnhance.Contrast(adjusted_image_pil)\n",
    "        adjusted_image_pil = enhancer.enhance(contrast_factor)\n",
    "\n",
    "        color_adjusted_filename = f\"{file_name}_h{round(hue_shift_value,2)}_s{round(saturation_factor,2)}_b{round(brightness_factor,2)}_c{round(contrast_factor,2)}.{extension_type}\"\n",
    "        color_adjusted_path = os.path.join(output_folder, color_adjusted_filename)\n",
    "        adjusted_image_pil.save(color_adjusted_path)\n",
    "\n",
    "    except Exception as e:\n",
    "        print(f\"Error processing {image_path}: {e}\")\n",
    "\n",
    "def aug_image_color_process_folder(folder_path, output_folder):\n",
    "    os.makedirs(output_folder, exist_ok=True)\n",
    "\n",
    "    print('')\n",
    "    print(f'augmenting images from {folder_path} and')\n",
    "    print(f'saving to {output_folder}')\n",
    "\n",
    "    filename: str\n",
    "    for filename in tqdm(os.listdir(folder_path)):\n",
    "        if filename.lower().endswith(('.png', '.jpg', '.jpeg', '.bmp', '.gif')):\n",
    "            file_path = os.path.join(folder_path, filename)\n",
    "\n",
    "            hue_range = [10 * i for i in range(1)]  # hue shift locked to 10\n",
    "            saturation_range = [0.9 + 0.3*i for i in range(2)]  # range from 0.9 to 1.5\n",
    "            brightness_range = [0.6 + 0.5*i for i in range(2)]  # range from 0.6 to 1.6\n",
    "            contrast_range = [0.8 + 0.5*i for i in range(2)]  # range from 0.8 to 1.6\n",
    "\n",
    "            for hue_shift_value in hue_range:\n",
    "                for saturation_factor in saturation_range:\n",
    "                    for brightness_factor in brightness_range:\n",
    "                        for contrast_factor in contrast_range:\n",
    "                            adjust_image_properties_opencv(file_path, \n",
    "                                                           output_folder, \n",
    "                                                           saturation_factor, \n",
    "                                                           brightness_factor, \n",
    "                                                           contrast_factor, \n",
    "                                                           hue_shift_value)"
   ]
  },
  {
   "cell_type": "markdown",
   "metadata": {},
   "source": [
    "### Augment Image Tilt\n",
    "helper functions"
   ]
  },
  {
   "cell_type": "code",
   "execution_count": 7,
   "metadata": {},
   "outputs": [],
   "source": [
    "def tilt_right(image):\n",
    "    rows, cols = image.shape[:2]\n",
    "    tilt_matrix = np.float32([[1, 0.2, 0], [0, 1, 0]])\n",
    "    # Adjust translation to fit the entire tilted image within the original dimensions\n",
    "    translation_matrix = np.float32([[1, 0, -0.2 * cols], [0, 1, 0]])\n",
    "    combined_matrix = np.dot(tilt_matrix, np.vstack((translation_matrix, [0, 0, 1])))\n",
    "    # Warp the image\n",
    "    tilted_image = cv2.warpAffine(image, combined_matrix[:2, :], (cols, rows))\n",
    "    return tilted_image\n",
    "\n",
    "def tilt_left(image):\n",
    "    rows, cols = image.shape[:2]\n",
    "    tilt_matrix = np.float32([[1, -0.2, 0], [0, 1, 0]])\n",
    "    # Adjust translation to fit the entire tilted image within the original dimensions\n",
    "    translation_matrix = np.float32([[1, 0, 0.2 * cols], [0, 1, 0]])\n",
    "    combined_matrix = np.dot(tilt_matrix, np.vstack((translation_matrix, [0, 0, 1])))\n",
    "    # Warp the image\n",
    "    tilted_image = cv2.warpAffine(image, combined_matrix[:2, :], (cols, rows))\n",
    "    return tilted_image\n",
    "\n",
    "def tilt_front(image):\n",
    "    rows, cols = image.shape[:2]\n",
    "    tilt_matrix = np.float32([[1, 0, 0], [0, 1, 0]])\n",
    "    tilted_image = cv2.warpAffine(image, tilt_matrix, (cols, rows))\n",
    "    return tilted_image\n",
    "\n",
    "def tilt_back(image):\n",
    "    rows, cols = image.shape[:2]\n",
    "    tilt_matrix = np.float32([[-1, 0, cols], [0, 1, 0]])\n",
    "    tilted_image = cv2.warpAffine(image, tilt_matrix, (cols, rows))\n",
    "    return tilted_image\n",
    "\n",
    "def aug_image_tilt_process_folder(folder_path, output_folder):\n",
    "    os.makedirs(output_folder, exist_ok=True)\n",
    "\n",
    "    print('')\n",
    "    print(f'augmenting images from {folder_path} and')\n",
    "    print(f'saving to {output_folder}')\n",
    "\n",
    "    filename: str\n",
    "    for filename in tqdm(os.listdir(folder_path)):\n",
    "        if filename.lower().endswith(('.png', '.jpg', '.jpeg', '.bmp', '.gif')):\n",
    "            file_path = os.path.join(folder_path, filename)\n",
    "            image = mpimg.imread(file_path)\n",
    "\n",
    "            # tilt images\n",
    "            tilted_right = tilt_right(image)\n",
    "            tilted_left = tilt_left(image)\n",
    "            tilted_front = tilt_front(image)\n",
    "            tilted_back = tilt_back(image)\n",
    "\n",
    "            # save tilted iamges\n",
    "            name, ext = filename.split('.')\n",
    "            mpimg.imsave(fname=os.path.join(output_folder, f'{name}_tilted_right.{ext}'), arr=tilted_right)\n",
    "            mpimg.imsave(fname=os.path.join(output_folder, f'{name}_tilted_left.{ext}'), arr=tilted_left)\n",
    "            mpimg.imsave(fname=os.path.join(output_folder, f'{name}_tilted_front.{ext}'), arr=tilted_front)\n",
    "            mpimg.imsave(fname=os.path.join(output_folder, f'{name}_tilted_back.{ext}'), arr=tilted_back)"
   ]
  },
  {
   "cell_type": "markdown",
   "metadata": {},
   "source": [
    "### Combinations of Augmentation\n",
    "The labled images are tilted, colored, and saved"
   ]
  },
  {
   "cell_type": "code",
   "execution_count": 8,
   "metadata": {},
   "outputs": [
    {
     "name": "stdout",
     "output_type": "stream",
     "text": [
      "\n",
      "augmenting images from train/sorted_data and\n",
      "saving to train/augmented_data/Tilt\n"
     ]
    },
    {
     "name": "stderr",
     "output_type": "stream",
     "text": [
      "100%|██████████| 268/268 [00:02<00:00, 122.01it/s]\n"
     ]
    },
    {
     "name": "stdout",
     "output_type": "stream",
     "text": [
      "\n",
      "augmenting images from train/sorted_data and\n",
      "saving to train/augmented_data\n"
     ]
    },
    {
     "name": "stderr",
     "output_type": "stream",
     "text": [
      "100%|██████████| 268/268 [00:01<00:00, 150.15it/s]\n"
     ]
    },
    {
     "name": "stdout",
     "output_type": "stream",
     "text": [
      "augmenting images from train/sorted_data and\n",
      "saving to train/augmented_data/Colored\n"
     ]
    },
    {
     "name": "stderr",
     "output_type": "stream",
     "text": [
      "100%|██████████| 268/268 [00:05<00:00, 47.95it/s]\n"
     ]
    },
    {
     "name": "stdout",
     "output_type": "stream",
     "text": [
      "augmenting images from train/augmented_data/Tilt and\n",
      "saving to train/augmented_data\n"
     ]
    },
    {
     "name": "stderr",
     "output_type": "stream",
     "text": [
      "100%|██████████| 1072/1072 [00:23<00:00, 46.02it/s]\n"
     ]
    }
   ],
   "source": [
    "# directory of sorted, labled data\n",
    "sorted_path = os.path.join(train_path, 'sorted_data')\n",
    "\n",
    "# create directory for augmented data\n",
    "aug_path = os.path.join(train_path, 'augmented_data')\n",
    "os.makedirs(aug_path, exist_ok=True)\n",
    "\n",
    "# saves default data into augmented_data subdirectory\n",
    "for filename in os.listdir(sorted_path):\n",
    "    file_path = os.path.join(sorted_path, filename)\n",
    "\n",
    "    img = Image.open(file_path)\n",
    "    img.save(f'{aug_path}/{filename}')\n",
    "\n",
    "# saves tilted images into augmented_data subdirectories\n",
    "aug_subdir_tilt = os.path.join(aug_path, 'Tilt')\n",
    "aug_image_tilt_process_folder(sorted_path, aug_subdir_tilt)\n",
    "aug_image_tilt_process_folder(sorted_path, aug_path)\n",
    "\n",
    "# saves colored images into augmented_data subdirectory\n",
    "aug_subdir_colored = os.path.join(aug_path, 'Colored')\n",
    "aug_image_color_process_folder(sorted_path, aug_subdir_colored)\n",
    "aug_image_color_process_folder(aug_subdir_tilt, aug_path)"
   ]
  },
  {
   "cell_type": "markdown",
   "metadata": {},
   "source": [
    "## Crop Data\n",
    "The augmented images will be cropped and saved in training/ <br>\n",
    "Data will be put into subdirectories organized by labels"
   ]
  },
  {
   "cell_type": "code",
   "execution_count": 9,
   "metadata": {},
   "outputs": [
    {
     "name": "stderr",
     "output_type": "stream",
     "text": [
      "  0%|          | 0/9918 [00:00<?, ?it/s]"
     ]
    },
    {
     "name": "stderr",
     "output_type": "stream",
     "text": [
      "100%|██████████| 9918/9918 [03:02<00:00, 54.35it/s]"
     ]
    },
    {
     "name": "stdout",
     "output_type": "stream",
     "text": [
      "Number of rejected images: 539\n"
     ]
    },
    {
     "name": "stderr",
     "output_type": "stream",
     "text": [
      "\n"
     ]
    }
   ],
   "source": [
    "src = os.path.join(train_path, 'augmented_data')\n",
    "dst = os.path.join(train_path, 'training')\n",
    "\n",
    "rej = os.path.join(train_path, 'rejected')\n",
    "\n",
    "os.makedirs(dst, exist_ok=True)\n",
    "os.makedirs(rej, exist_ok=True)\n",
    "\n",
    "# autocropper\n",
    "cropper = Cropper(244, 244)\n",
    "\n",
    "rejected_count = 0\n",
    "\n",
    "for filename in tqdm(os.listdir(src)):\n",
    "    if filename.lower().endswith(('.png', '.jpg', '.jpeg', '.bmp', '.gif')):\n",
    "        # creates subdirectory by labels\n",
    "        label = filename.split('_')[0]\n",
    "        subdir = os.path.join(dst, label)\n",
    "        os.makedirs(subdir, exist_ok=True)\n",
    "\n",
    "        # crops image\n",
    "        cropped_array = cropper.crop(f'{src}/{filename}')\n",
    "\n",
    "        if type(cropped_array) != type(None):\n",
    "            # saves successfully cropped image in subdir\n",
    "            img = Image.fromarray(cropped_array)\n",
    "            img.save(f'{subdir}/{filename}')\n",
    "        else:\n",
    "            rejsubdir = os.path.join(rej, 'training', label)\n",
    "            os.makedirs(rejsubdir, exist_ok=True)\n",
    "\n",
    "            # saves rejected image in rejected/training/[label]/\n",
    "            img = Image.open(f'{src}/{filename}')\n",
    "            img.save(f'{rejsubdir}/{filename}')\n",
    "\n",
    "            rejected_count += 1\n",
    "\n",
    "print(f'Number of rejected images: {rejected_count}')"
   ]
  }
 ],
 "metadata": {
  "kernelspec": {
   "display_name": "Python 3",
   "language": "python",
   "name": "python3"
  },
  "language_info": {
   "codemirror_mode": {
    "name": "ipython",
    "version": 3
   },
   "file_extension": ".py",
   "mimetype": "text/x-python",
   "name": "python",
   "nbconvert_exporter": "python",
   "pygments_lexer": "ipython3",
   "version": "3.10.10"
  }
 },
 "nbformat": 4,
 "nbformat_minor": 2
}
